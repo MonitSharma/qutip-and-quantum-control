{
 "cells": [
  {
   "cell_type": "markdown",
   "metadata": {},
   "source": [
    "# Introduction to QuTiP\n",
    "\n"
   ]
  },
  {
   "cell_type": "markdown",
   "metadata": {},
   "source": [
    "## Importing\n",
    "\n"
   ]
  },
  {
   "cell_type": "markdown",
   "metadata": {},
   "source": [
    "[Source](https://nbviewer.org/urls/qutip.org/qutip-tutorials/tutorials-v4/lectures/Lecture-0-Introduction-to-QuTiP.ipynb)"
   ]
  },
  {
   "cell_type": "code",
   "execution_count": 2,
   "metadata": {},
   "outputs": [],
   "source": [
    "import matplotlib.pyplot as plt\n",
    "import numpy as np\n",
    "from IPython.display import Image\n",
    "\n",
    "# QuTiP imports\n",
    "\n",
    "from qutip import (Qobj, about, basis, coherent_dm, create, destroy, displace,coherent, expect,\n",
    "                   fock, fock_dm,mesolve,qeye, sigmax, sigmay, sigmaz, tensor, thermal_dm)"
   ]
  },
  {
   "cell_type": "markdown",
   "metadata": {},
   "source": [
    "## What is QuTiP?\n",
    "\n"
   ]
  },
  {
   "cell_type": "markdown",
   "metadata": {},
   "source": [
    "It is a Python Package for calculations and numerical simulations of quantum systems. It includes facilities for representing and doing calculations with quantum objects such as state vectors, quantum operators of single and composite systems, and superoperators.\n",
    "\n",
    "It also includes solvers for a time-evolution of quantum systems, according to: \n",
    "1. Schrodinger Equation\n",
    "2. von Neuman Equation\n",
    "3. Master Equations\n",
    "4. Floquet formalism\n",
    "5. Monte Carlo quantum trajectories\n",
    "6. experimental implementations of stochastic master equations."
   ]
  },
  {
   "cell_type": "markdown",
   "metadata": {},
   "source": [
    "### Installation\n",
    "\n",
    "```python\n",
    "pip install qutip\n",
    "```"
   ]
  },
  {
   "cell_type": "markdown",
   "metadata": {},
   "source": [
    "## Quantum Object Class: `qobj`"
   ]
  },
  {
   "cell_type": "markdown",
   "metadata": {},
   "source": [
    "Most basic building blovk of QuTiP package is the `Qobj` class, which is used for representing quantum objects such as states and operators. The `Qobj` class contains all the information required to describe a quantum system, such as its matrix representation, composite strcutures and dimensionality"
   ]
  },
  {
   "cell_type": "markdown",
   "metadata": {},
   "source": [
    "### Creating and Inspecting Quantum Objects\n",
    "\n",
    "We can create a new quantum object using the `Qobj` class constructor, like this"
   ]
  },
  {
   "cell_type": "code",
   "execution_count": 3,
   "metadata": {},
   "outputs": [
    {
     "data": {
      "text/latex": [
       "Quantum object: dims = [[2], [1]], shape = (2, 1), type = ket $ \\\\ \\left(\\begin{matrix}1.0\\\\0.0\\\\\\end{matrix}\\right)$"
      ],
      "text/plain": [
       "Quantum object: dims = [[2], [1]], shape = (2, 1), type = ket\n",
       "Qobj data =\n",
       "[[1.]\n",
       " [0.]]"
      ]
     },
     "execution_count": 3,
     "metadata": {},
     "output_type": "execute_result"
    }
   ],
   "source": [
    "q = Qobj([[1], [0]])\n",
    "q"
   ]
  },
  {
   "cell_type": "markdown",
   "metadata": {},
   "source": [
    "We passed a python list as an argument to the class constructor. The data in the list is used to construct the matrix representation of the quantum objects, and the other properties of the quantum object is by default computed from the same data. \n",
    "\n",
    "We can inspect the properties of a `Qobj` instance using the following"
   ]
  },
  {
   "cell_type": "code",
   "execution_count": 4,
   "metadata": {},
   "outputs": [
    {
     "data": {
      "text/plain": [
       "[[2], [1]]"
      ]
     },
     "execution_count": 4,
     "metadata": {},
     "output_type": "execute_result"
    }
   ],
   "source": [
    "q.dims # the dimensions of the quantum object"
   ]
  },
  {
   "cell_type": "code",
   "execution_count": 5,
   "metadata": {},
   "outputs": [
    {
     "data": {
      "text/plain": [
       "(2, 1)"
      ]
     },
     "execution_count": 5,
     "metadata": {},
     "output_type": "execute_result"
    }
   ],
   "source": [
    "q.shape # the shape of the quantum object"
   ]
  },
  {
   "cell_type": "code",
   "execution_count": 6,
   "metadata": {},
   "outputs": [
    {
     "data": {
      "text/plain": [
       "<2x1 sparse matrix of type '<class 'numpy.complex128'>'\n",
       "\twith 1 stored elements in Compressed Sparse Row format>"
      ]
     },
     "execution_count": 6,
     "metadata": {},
     "output_type": "execute_result"
    }
   ],
   "source": [
    "q.data # the data of the quantum object"
   ]
  },
  {
   "cell_type": "code",
   "execution_count": 7,
   "metadata": {},
   "outputs": [
    {
     "data": {
      "text/plain": [
       "array([[1.+0.j],\n",
       "       [0.+0.j]])"
      ]
     },
     "execution_count": 7,
     "metadata": {},
     "output_type": "execute_result"
    }
   ],
   "source": [
    "q.full() # the full dense matrix representation of the quantum object"
   ]
  },
  {
   "cell_type": "code",
   "execution_count": 9,
   "metadata": {},
   "outputs": [
    {
     "data": {
      "text/plain": [
       "False"
      ]
     },
     "execution_count": 9,
     "metadata": {},
     "output_type": "execute_result"
    }
   ],
   "source": [
    "q.isherm # check if the quantum object is Hermitian\n"
   ]
  },
  {
   "cell_type": "code",
   "execution_count": 10,
   "metadata": {},
   "outputs": [
    {
     "data": {
      "text/plain": [
       "'ket'"
      ]
     },
     "execution_count": 10,
     "metadata": {},
     "output_type": "execute_result"
    }
   ],
   "source": [
    "q.type # check the type of the quantum object"
   ]
  },
  {
   "cell_type": "markdown",
   "metadata": {},
   "source": [
    "### Using `Qobj` insances for calculations\n",
    "\n",
    "Wih `Qobj` instances we can do arithmetic and apply a number of different operations using class methods:"
   ]
  },
  {
   "cell_type": "code",
   "execution_count": 11,
   "metadata": {},
   "outputs": [
    {
     "data": {
      "text/latex": [
       "Quantum object: dims = [[2], [2]], shape = (2, 2), type = oper, isherm = True $ \\\\ \\left(\\begin{matrix}0.0 & -1.0j\\\\1.0j & 0.0\\\\\\end{matrix}\\right)$"
      ],
      "text/plain": [
       "Quantum object: dims = [[2], [2]], shape = (2, 2), type = oper, isherm = True\n",
       "Qobj data =\n",
       "[[0.+0.j 0.-1.j]\n",
       " [0.+1.j 0.+0.j]]"
      ]
     },
     "execution_count": 11,
     "metadata": {},
     "output_type": "execute_result"
    }
   ],
   "source": [
    "sy = Qobj([[0, -1j], [1j,0]]) # the sigma-y Pauli operator\n",
    "sy"
   ]
  },
  {
   "cell_type": "code",
   "execution_count": 12,
   "metadata": {},
   "outputs": [
    {
     "data": {
      "text/latex": [
       "Quantum object: dims = [[2], [2]], shape = (2, 2), type = oper, isherm = True $ \\\\ \\left(\\begin{matrix}1.0 & 0.0\\\\0.0 & -1.0\\\\\\end{matrix}\\right)$"
      ],
      "text/plain": [
       "Quantum object: dims = [[2], [2]], shape = (2, 2), type = oper, isherm = True\n",
       "Qobj data =\n",
       "[[ 1.  0.]\n",
       " [ 0. -1.]]"
      ]
     },
     "execution_count": 12,
     "metadata": {},
     "output_type": "execute_result"
    }
   ],
   "source": [
    "sz = Qobj([[1, 0], [0, -1]]) # the sigma-z Pauli operator\n",
    "sz"
   ]
  },
  {
   "cell_type": "code",
   "execution_count": 15,
   "metadata": {},
   "outputs": [
    {
     "name": "stdout",
     "output_type": "stream",
     "text": [
      "Qubit Hamiltonian = \n",
      "\n"
     ]
    },
    {
     "data": {
      "text/latex": [
       "Quantum object: dims = [[2], [2]], shape = (2, 2), type = oper, isherm = True $ \\\\ \\left(\\begin{matrix}1.0 & -0.100j\\\\0.100j & -1.0\\\\\\end{matrix}\\right)$"
      ],
      "text/plain": [
       "Quantum object: dims = [[2], [2]], shape = (2, 2), type = oper, isherm = True\n",
       "Qobj data =\n",
       "[[ 1.+0.j   0.-0.1j]\n",
       " [ 0.+0.1j -1.+0.j ]]"
      ]
     },
     "execution_count": 15,
     "metadata": {},
     "output_type": "execute_result"
    }
   ],
   "source": [
    "# let's do some arithectic with quantum objects\n",
    "\n",
    "H = 1.0 * sz + 0.1 *sy\n",
    "print(\"Qubit Hamiltonian = \\n\")\n",
    "H"
   ]
  },
  {
   "cell_type": "markdown",
   "metadata": {},
   "source": [
    "Modifying quantum objects using the `Qobj` methods"
   ]
  },
  {
   "cell_type": "code",
   "execution_count": 16,
   "metadata": {},
   "outputs": [
    {
     "data": {
      "text/latex": [
       "Quantum object: dims = [[2], [2]], shape = (2, 2), type = oper, isherm = True $ \\\\ \\left(\\begin{matrix}0.0 & -1.0j\\\\1.0j & 0.0\\\\\\end{matrix}\\right)$"
      ],
      "text/plain": [
       "Quantum object: dims = [[2], [2]], shape = (2, 2), type = oper, isherm = True\n",
       "Qobj data =\n",
       "[[0.+0.j 0.-1.j]\n",
       " [0.+1.j 0.+0.j]]"
      ]
     },
     "execution_count": 16,
     "metadata": {},
     "output_type": "execute_result"
    }
   ],
   "source": [
    "sy.dag() # the Hermitian conjugate of the sigma-y operator"
   ]
  },
  {
   "cell_type": "code",
   "execution_count": 17,
   "metadata": {},
   "outputs": [
    {
     "data": {
      "text/plain": [
       "0.0"
      ]
     },
     "execution_count": 17,
     "metadata": {},
     "output_type": "execute_result"
    }
   ],
   "source": [
    "H.tr() # the trace of the Hamiltonian"
   ]
  },
  {
   "cell_type": "code",
   "execution_count": 19,
   "metadata": {},
   "outputs": [
    {
     "data": {
      "text/plain": [
       "array([-1.00498756,  1.00498756])"
      ]
     },
     "execution_count": 19,
     "metadata": {},
     "output_type": "execute_result"
    }
   ],
   "source": [
    "H.eigenenergies() # the eigenenergies of the Hamiltonian"
   ]
  },
  {
   "cell_type": "markdown",
   "metadata": {},
   "source": [
    "To get a complete list of methods and properites, either visit the [official site](https://qutip.org/docs/latest/index.html) or do this:"
   ]
  },
  {
   "cell_type": "code",
   "execution_count": 20,
   "metadata": {},
   "outputs": [
    {
     "name": "stdout",
     "output_type": "stream",
     "text": [
      "Help on class Qobj in module qutip.qobj:\n",
      "\n",
      "class Qobj(builtins.object)\n",
      " |  Qobj(inpt=None, dims=None, shape=None, type=None, isherm=None, copy=True, fast=False, superrep=None, isunitary=None)\n",
      " |  \n",
      " |  A class for representing quantum objects, such as quantum operators\n",
      " |  and states.\n",
      " |  \n",
      " |  The Qobj class is the QuTiP representation of quantum operators and state\n",
      " |  vectors. This class also implements math operations +,-,* between Qobj\n",
      " |  instances (and / by a C-number), as well as a collection of common\n",
      " |  operator/state operations.  The Qobj constructor optionally takes a\n",
      " |  dimension ``list`` and/or shape ``list`` as arguments.\n",
      " |  \n",
      " |  Parameters\n",
      " |  ----------\n",
      " |  inpt : array_like\n",
      " |      Data for vector/matrix representation of the quantum object.\n",
      " |  dims : list\n",
      " |      Dimensions of object used for tensor products.\n",
      " |  shape : list\n",
      " |      Shape of underlying data structure (matrix shape).\n",
      " |  copy : bool\n",
      " |      Flag specifying whether Qobj should get a copy of the\n",
      " |      input data, or use the original.\n",
      " |  fast : bool\n",
      " |      Flag for fast qobj creation when running ode solvers.\n",
      " |      This parameter is used internally only.\n",
      " |  \n",
      " |  \n",
      " |  Attributes\n",
      " |  ----------\n",
      " |  data : array_like\n",
      " |      Sparse matrix characterizing the quantum object.\n",
      " |  dims : list\n",
      " |      List of dimensions keeping track of the tensor structure.\n",
      " |  shape : list\n",
      " |      Shape of the underlying `data` array.\n",
      " |  type : str\n",
      " |      Type of quantum object: 'bra', 'ket', 'oper', 'operator-ket',\n",
      " |      'operator-bra', or 'super'.\n",
      " |  superrep : str\n",
      " |      Representation used if `type` is 'super'. One of 'super'\n",
      " |      (Liouville form) or 'choi' (Choi matrix with tr = dimension).\n",
      " |  isherm : bool\n",
      " |      Indicates if quantum object represents Hermitian operator.\n",
      " |  isunitary : bool\n",
      " |      Indictaes if quantum object represents unitary operator.\n",
      " |  iscp : bool\n",
      " |      Indicates if the quantum object represents a map, and if that map is\n",
      " |      completely positive (CP).\n",
      " |  ishp : bool\n",
      " |      Indicates if the quantum object represents a map, and if that map is\n",
      " |      hermicity preserving (HP).\n",
      " |  istp : bool\n",
      " |      Indicates if the quantum object represents a map, and if that map is\n",
      " |      trace preserving (TP).\n",
      " |  iscptp : bool\n",
      " |      Indicates if the quantum object represents a map that is completely\n",
      " |      positive and trace preserving (CPTP).\n",
      " |  isket : bool\n",
      " |      Indicates if the quantum object represents a ket.\n",
      " |  isbra : bool\n",
      " |      Indicates if the quantum object represents a bra.\n",
      " |  isoper : bool\n",
      " |      Indicates if the quantum object represents an operator.\n",
      " |  issuper : bool\n",
      " |      Indicates if the quantum object represents a superoperator.\n",
      " |  isoperket : bool\n",
      " |      Indicates if the quantum object represents an operator in column vector\n",
      " |      form.\n",
      " |  isoperbra : bool\n",
      " |      Indicates if the quantum object represents an operator in row vector\n",
      " |      form.\n",
      " |  \n",
      " |  Methods\n",
      " |  -------\n",
      " |  copy()\n",
      " |      Create copy of Qobj\n",
      " |  conj()\n",
      " |      Conjugate of quantum object.\n",
      " |  cosm()\n",
      " |      Cosine of quantum object.\n",
      " |  dag()\n",
      " |      Adjoint (dagger) of quantum object.\n",
      " |  dnorm()\n",
      " |      Diamond norm of quantum operator.\n",
      " |  dual_chan()\n",
      " |      Dual channel of quantum object representing a CP map.\n",
      " |  eigenenergies(sparse=False, sort='low', eigvals=0, tol=0, maxiter=100000)\n",
      " |      Returns eigenenergies (eigenvalues) of a quantum object.\n",
      " |  eigenstates(sparse=False, sort='low', eigvals=0, tol=0, maxiter=100000)\n",
      " |      Returns eigenenergies and eigenstates of quantum object.\n",
      " |  expm()\n",
      " |      Matrix exponential of quantum object.\n",
      " |  full(order='C')\n",
      " |      Returns dense array of quantum object `data` attribute.\n",
      " |  groundstate(sparse=False, tol=0, maxiter=100000)\n",
      " |      Returns eigenvalue and eigenket for the groundstate of a quantum\n",
      " |      object.\n",
      " |  inv()\n",
      " |      Return a Qobj corresponding to the matrix inverse of the operator.\n",
      " |  matrix_element(bra, ket)\n",
      " |      Returns the matrix element of operator between `bra` and `ket` vectors.\n",
      " |  norm(norm='tr', sparse=False, tol=0, maxiter=100000)\n",
      " |      Returns norm of a ket or an operator.\n",
      " |  permute(order)\n",
      " |      Returns composite qobj with indices reordered.\n",
      " |  proj()\n",
      " |      Computes the projector for a ket or bra vector.\n",
      " |  ptrace(sel)\n",
      " |      Returns quantum object for selected dimensions after performing\n",
      " |      partial trace.\n",
      " |  sinm()\n",
      " |      Sine of quantum object.\n",
      " |  sqrtm()\n",
      " |      Matrix square root of quantum object.\n",
      " |  tidyup(atol=1e-12)\n",
      " |      Removes small elements from quantum object.\n",
      " |  tr()\n",
      " |      Trace of quantum object.\n",
      " |  trans()\n",
      " |      Transpose of quantum object.\n",
      " |  transform(inpt, inverse=False)\n",
      " |      Performs a basis transformation defined by `inpt` matrix.\n",
      " |  trunc_neg(method='clip')\n",
      " |      Removes negative eigenvalues and returns a new Qobj that is\n",
      " |      a valid density operator.\n",
      " |  unit(norm='tr', sparse=False, tol=0, maxiter=100000)\n",
      " |      Returns normalized quantum object.\n",
      " |  \n",
      " |  Methods defined here:\n",
      " |  \n",
      " |  __abs__(self)\n",
      " |  \n",
      " |  __add__(self, other)\n",
      " |      ADDITION with Qobj on LEFT [ ex. Qobj+4 ]\n",
      " |  \n",
      " |  __array__(self, *arg, **kwarg)\n",
      " |      Numpy array from Qobj\n",
      " |      For compatibility with np.array\n",
      " |  \n",
      " |  __call__(self, other)\n",
      " |      Acts this Qobj on another Qobj either by left-multiplication,\n",
      " |      or by vectorization and devectorization, as\n",
      " |      appropriate.\n",
      " |  \n",
      " |  __div__(self, other)\n",
      " |      DIVISION (by numbers only)\n",
      " |  \n",
      " |  __eq__(self, other)\n",
      " |      EQUALITY operator.\n",
      " |  \n",
      " |  __getitem__(self, ind)\n",
      " |      GET qobj elements.\n",
      " |  \n",
      " |  __getstate__(self)\n",
      " |  \n",
      " |  __init__(self, inpt=None, dims=None, shape=None, type=None, isherm=None, copy=True, fast=False, superrep=None, isunitary=None)\n",
      " |      Qobj constructor.\n",
      " |  \n",
      " |  __mul__(self, other)\n",
      " |      MULTIPLICATION with Qobj on LEFT [ ex. Qobj*4 ]\n",
      " |  \n",
      " |  __ne__(self, other)\n",
      " |      INEQUALITY operator.\n",
      " |  \n",
      " |  __neg__(self)\n",
      " |      NEGATION operation.\n",
      " |  \n",
      " |  __pow__(self, n, m=None)\n",
      " |      POWER operation.\n",
      " |  \n",
      " |  __radd__(self, other)\n",
      " |      ADDITION with Qobj on RIGHT [ ex. 4+Qobj ]\n",
      " |  \n",
      " |  __repr__(self)\n",
      " |      Return repr(self).\n",
      " |  \n",
      " |  __rmul__(self, other)\n",
      " |      MULTIPLICATION with Qobj on RIGHT [ ex. 4*Qobj ]\n",
      " |  \n",
      " |  __rsub__(self, other)\n",
      " |      SUBTRACTION with Qobj on RIGHT [ ex. 4-Qobj ]\n",
      " |  \n",
      " |  __setstate__(self, state)\n",
      " |  \n",
      " |  __str__(self)\n",
      " |      Return str(self).\n",
      " |  \n",
      " |  __sub__(self, other)\n",
      " |      SUBTRACTION with Qobj on LEFT [ ex. Qobj-4 ]\n",
      " |  \n",
      " |  __truediv__(self, other)\n",
      " |  \n",
      " |  check_herm(self)\n",
      " |      Check if the quantum object is hermitian.\n",
      " |      \n",
      " |      Returns\n",
      " |      -------\n",
      " |      isherm : bool\n",
      " |          Returns the new value of isherm property.\n",
      " |  \n",
      " |  check_isunitary(self)\n",
      " |      Checks whether qobj is a unitary matrix\n",
      " |  \n",
      " |  conj(self)\n",
      " |      Conjugate operator of quantum object.\n",
      " |  \n",
      " |  copy(self)\n",
      " |      Create identical copy\n",
      " |  \n",
      " |  cosm(self)\n",
      " |      Cosine of a quantum operator.\n",
      " |      \n",
      " |      Operator must be square.\n",
      " |      \n",
      " |      Returns\n",
      " |      -------\n",
      " |      oper : :class:`qutip.Qobj`\n",
      " |          Matrix cosine of operator.\n",
      " |      \n",
      " |      Raises\n",
      " |      ------\n",
      " |      TypeError\n",
      " |          Quantum object is not square.\n",
      " |      \n",
      " |      Notes\n",
      " |      -----\n",
      " |      Uses the Q.expm() method.\n",
      " |  \n",
      " |  dag(self)\n",
      " |      Adjoint operator of quantum object.\n",
      " |  \n",
      " |  diag(self)\n",
      " |      Diagonal elements of quantum object.\n",
      " |      \n",
      " |      Returns\n",
      " |      -------\n",
      " |      diags : array\n",
      " |          Returns array of ``real`` values if operators is Hermitian,\n",
      " |          otherwise ``complex`` values are returned.\n",
      " |  \n",
      " |  dnorm(self, B=None)\n",
      " |      Calculates the diamond norm, or the diamond distance to another\n",
      " |      operator.\n",
      " |      \n",
      " |      Parameters\n",
      " |      ----------\n",
      " |      B : :class:`qutip.Qobj` or None\n",
      " |          If B is not None, the diamond distance d(A, B) = dnorm(A - B)\n",
      " |          between this operator and B is returned instead of the diamond\n",
      " |          norm.\n",
      " |      \n",
      " |      Returns\n",
      " |      -------\n",
      " |      d : float\n",
      " |          Either the diamond norm of this operator, or the diamond distance\n",
      " |          from this operator to B.\n",
      " |  \n",
      " |  dual_chan(self)\n",
      " |      Dual channel of quantum object representing a completely positive\n",
      " |      map.\n",
      " |  \n",
      " |  eigenenergies(self, sparse=False, sort='low', eigvals=0, tol=0, maxiter=100000)\n",
      " |      Eigenenergies of a quantum object.\n",
      " |      \n",
      " |      Eigenenergies (eigenvalues) are defined for operators or superoperators\n",
      " |      only.\n",
      " |      \n",
      " |      Parameters\n",
      " |      ----------\n",
      " |      sparse : bool\n",
      " |          Use sparse Eigensolver\n",
      " |      sort : str\n",
      " |          Sort eigenvalues 'low' to high, or 'high' to low.\n",
      " |      eigvals : int\n",
      " |          Number of requested eigenvalues. Default is all eigenvalues.\n",
      " |      tol : float\n",
      " |          Tolerance used by sparse Eigensolver (0=machine precision).\n",
      " |          The sparse solver may not converge if the tolerance is set too low.\n",
      " |      maxiter : int\n",
      " |          Maximum number of iterations performed by sparse solver (if used).\n",
      " |      \n",
      " |      Returns\n",
      " |      -------\n",
      " |      eigvals : array\n",
      " |          Array of eigenvalues for operator.\n",
      " |      \n",
      " |      Notes\n",
      " |      -----\n",
      " |      The sparse eigensolver is much slower than the dense version.\n",
      " |      Use sparse only if memory requirements demand it.\n",
      " |  \n",
      " |  eigenstates(self, sparse=False, sort='low', eigvals=0, tol=0, maxiter=100000, phase_fix=None)\n",
      " |      Eigenstates and eigenenergies.\n",
      " |      \n",
      " |      Eigenstates and eigenenergies are defined for operators and\n",
      " |      superoperators only.\n",
      " |      \n",
      " |      Parameters\n",
      " |      ----------\n",
      " |      sparse : bool\n",
      " |          Use sparse Eigensolver\n",
      " |      \n",
      " |      sort : str\n",
      " |          Sort eigenvalues (and vectors) 'low' to high, or 'high' to low.\n",
      " |      \n",
      " |      eigvals : int\n",
      " |          Number of requested eigenvalues. Default is all eigenvalues.\n",
      " |      \n",
      " |      tol : float\n",
      " |          Tolerance used by sparse Eigensolver (0 = machine precision).\n",
      " |          The sparse solver may not converge if the tolerance is set too low.\n",
      " |      \n",
      " |      maxiter : int\n",
      " |          Maximum number of iterations performed by sparse solver (if used).\n",
      " |      \n",
      " |      phase_fix : int, None\n",
      " |          If not None, set the phase of each kets so that ket[phase_fix,0]\n",
      " |          is real positive.\n",
      " |      \n",
      " |      Returns\n",
      " |      -------\n",
      " |      eigvals : array\n",
      " |          Array of eigenvalues for operator.\n",
      " |      \n",
      " |      eigvecs : array\n",
      " |          Array of quantum operators representing the oprator eigenkets.\n",
      " |          Order of eigenkets is determined by order of eigenvalues.\n",
      " |      \n",
      " |      Notes\n",
      " |      -----\n",
      " |      The sparse eigensolver is much slower than the dense version.\n",
      " |      Use sparse only if memory requirements demand it.\n",
      " |  \n",
      " |  eliminate_states(self, states_inds, normalize=False)\n",
      " |      Creates a new quantum object with states in state_inds eliminated.\n",
      " |      \n",
      " |      Parameters\n",
      " |      ----------\n",
      " |      states_inds : list of integer\n",
      " |          The states that should be removed.\n",
      " |      \n",
      " |      normalize : True / False\n",
      " |          Weather or not the new Qobj instance should be normalized (default\n",
      " |          is False). For Qobjs that represents density matrices or state\n",
      " |          vectors normalized should probably be set to True, but for Qobjs\n",
      " |          that represents operators in for example an Hamiltonian, normalize\n",
      " |          should be False.\n",
      " |      \n",
      " |      Returns\n",
      " |      -------\n",
      " |      q : :class:`qutip.Qobj`\n",
      " |          A new instance of :class:`qutip.Qobj` that contains only the states\n",
      " |          corresponding to indices that are **not** in `state_inds`.\n",
      " |      \n",
      " |      Notes\n",
      " |      -----\n",
      " |      Experimental.\n",
      " |  \n",
      " |  expm(self, method='dense')\n",
      " |      Matrix exponential of quantum operator.\n",
      " |      \n",
      " |      Input operator must be square.\n",
      " |      \n",
      " |      Parameters\n",
      " |      ----------\n",
      " |      method : str {'dense', 'sparse'}\n",
      " |          Use set method to use to calculate the matrix exponentiation. The\n",
      " |          available choices includes 'dense' and 'sparse'.  Since the\n",
      " |          exponential of a matrix is nearly always dense, method='dense'\n",
      " |          is set as default.s\n",
      " |      \n",
      " |      Returns\n",
      " |      -------\n",
      " |      oper : :class:`qutip.Qobj`\n",
      " |          Exponentiated quantum operator.\n",
      " |      \n",
      " |      Raises\n",
      " |      ------\n",
      " |      TypeError\n",
      " |          Quantum operator is not square.\n",
      " |  \n",
      " |  extract_states(self, states_inds, normalize=False)\n",
      " |      Qobj with states in state_inds only.\n",
      " |      \n",
      " |      Parameters\n",
      " |      ----------\n",
      " |      states_inds : list of integer\n",
      " |          The states that should be kept.\n",
      " |      \n",
      " |      normalize : True / False\n",
      " |          Weather or not the new Qobj instance should be normalized (default\n",
      " |          is False). For Qobjs that represents density matrices or state\n",
      " |          vectors normalized should probably be set to True, but for Qobjs\n",
      " |          that represents operators in for example an Hamiltonian, normalize\n",
      " |          should be False.\n",
      " |      \n",
      " |      Returns\n",
      " |      -------\n",
      " |      q : :class:`qutip.Qobj`\n",
      " |          A new instance of :class:`qutip.Qobj` that contains only the states\n",
      " |          corresponding to the indices in `state_inds`.\n",
      " |      \n",
      " |      Notes\n",
      " |      -----\n",
      " |      Experimental.\n",
      " |  \n",
      " |  full(self, order='C', squeeze=False)\n",
      " |      Dense array from quantum object.\n",
      " |      \n",
      " |      Parameters\n",
      " |      ----------\n",
      " |      order : str {'C', 'F'}\n",
      " |          Return array in C (default) or Fortran ordering.\n",
      " |      squeeze : bool {False, True}\n",
      " |          Squeeze output array.\n",
      " |      \n",
      " |      Returns\n",
      " |      -------\n",
      " |      data : array\n",
      " |          Array of complex data from quantum objects `data` attribute.\n",
      " |  \n",
      " |  get_data(self)\n",
      " |  \n",
      " |  groundstate(self, sparse=False, tol=0, maxiter=100000, safe=True)\n",
      " |      Ground state Eigenvalue and Eigenvector.\n",
      " |      \n",
      " |      Defined for quantum operators or superoperators only.\n",
      " |      \n",
      " |      Parameters\n",
      " |      ----------\n",
      " |      sparse : bool\n",
      " |          Use sparse Eigensolver\n",
      " |      tol : float\n",
      " |          Tolerance used by sparse Eigensolver (0 = machine precision).\n",
      " |          The sparse solver may not converge if the tolerance is set too low.\n",
      " |      maxiter : int\n",
      " |          Maximum number of iterations performed by sparse solver (if used).\n",
      " |      safe : bool (default=True)\n",
      " |          Check for degenerate ground state\n",
      " |      \n",
      " |      Returns\n",
      " |      -------\n",
      " |      eigval : float\n",
      " |          Eigenvalue for the ground state of quantum operator.\n",
      " |      eigvec : :class:`qutip.Qobj`\n",
      " |          Eigenket for the ground state of quantum operator.\n",
      " |      \n",
      " |      Notes\n",
      " |      -----\n",
      " |      The sparse eigensolver is much slower than the dense version.\n",
      " |      Use sparse only if memory requirements demand it.\n",
      " |  \n",
      " |  inv(self, sparse=False)\n",
      " |      Matrix inverse of a quantum operator\n",
      " |      \n",
      " |      Operator must be square.\n",
      " |      \n",
      " |      Returns\n",
      " |      -------\n",
      " |      oper : :class:`qutip.Qobj`\n",
      " |          Matrix inverse of operator.\n",
      " |      \n",
      " |      Raises\n",
      " |      ------\n",
      " |      TypeError\n",
      " |          Quantum object is not square.\n",
      " |  \n",
      " |  matrix_element(self, bra, ket)\n",
      " |      Calculates a matrix element.\n",
      " |      \n",
      " |      Gives the matrix element for the quantum object sandwiched between a\n",
      " |      `bra` and `ket` vector.\n",
      " |      \n",
      " |      Parameters\n",
      " |      -----------\n",
      " |      bra : :class:`qutip.Qobj`\n",
      " |          Quantum object of type 'bra' or 'ket'\n",
      " |      \n",
      " |      ket : :class:`qutip.Qobj`\n",
      " |          Quantum object of type 'ket'.\n",
      " |      \n",
      " |      Returns\n",
      " |      -------\n",
      " |      elem : complex\n",
      " |          Complex valued matrix element.\n",
      " |      \n",
      " |      Notes\n",
      " |      -----\n",
      " |      It is slightly more computationally efficient to use a ket\n",
      " |      vector for the 'bra' input.\n",
      " |  \n",
      " |  norm(self, norm=None, sparse=False, tol=0, maxiter=100000)\n",
      " |      Norm of a quantum object.\n",
      " |      \n",
      " |      Default norm is L2-norm for kets and trace-norm for operators.\n",
      " |      Other ket and operator norms may be specified using the `norm` and\n",
      " |      argument.\n",
      " |      \n",
      " |      Parameters\n",
      " |      ----------\n",
      " |      norm : str\n",
      " |          Which norm to use for ket/bra vectors: L2 'l2', max norm 'max',\n",
      " |          or for operators: trace 'tr', Frobius 'fro', one 'one', or max\n",
      " |          'max'.\n",
      " |      \n",
      " |      sparse : bool\n",
      " |          Use sparse eigenvalue solver for trace norm.  Other norms are not\n",
      " |          affected by this parameter.\n",
      " |      \n",
      " |      tol : float\n",
      " |          Tolerance for sparse solver (if used) for trace norm. The sparse\n",
      " |          solver may not converge if the tolerance is set too low.\n",
      " |      \n",
      " |      maxiter : int\n",
      " |          Maximum number of iterations performed by sparse solver (if used)\n",
      " |          for trace norm.\n",
      " |      \n",
      " |      Returns\n",
      " |      -------\n",
      " |      norm : float\n",
      " |          The requested norm of the operator or state quantum object.\n",
      " |      \n",
      " |      \n",
      " |      Notes\n",
      " |      -----\n",
      " |      The sparse eigensolver is much slower than the dense version.\n",
      " |      Use sparse only if memory requirements demand it.\n",
      " |  \n",
      " |  overlap(self, other)\n",
      " |      Overlap between two state vectors or two operators.\n",
      " |      \n",
      " |      Gives the overlap (inner product) between the current bra or ket Qobj\n",
      " |      and and another bra or ket Qobj. It gives the Hilbert-Schmidt overlap\n",
      " |      when one of the Qobj is an operator/density matrix.\n",
      " |      \n",
      " |      Parameters\n",
      " |      -----------\n",
      " |      other : :class:`qutip.Qobj`\n",
      " |          Quantum object for a state vector of type 'ket', 'bra' or density\n",
      " |          matrix.\n",
      " |      \n",
      " |      Returns\n",
      " |      -------\n",
      " |      overlap : complex\n",
      " |          Complex valued overlap.\n",
      " |      \n",
      " |      Raises\n",
      " |      ------\n",
      " |      TypeError\n",
      " |          Can only calculate overlap between a bra, ket and density matrix\n",
      " |          quantum objects.\n",
      " |      \n",
      " |      Notes\n",
      " |      -----\n",
      " |      Since QuTiP mainly deals with ket vectors, the most efficient inner\n",
      " |      product call is the ket-ket version that computes the product\n",
      " |      <self|other> with both vectors expressed as kets.\n",
      " |  \n",
      " |  permute(self, order)\n",
      " |      Permutes a composite quantum object.\n",
      " |      \n",
      " |      Parameters\n",
      " |      ----------\n",
      " |      order : list/array\n",
      " |          List specifying new tensor order.\n",
      " |      \n",
      " |      Returns\n",
      " |      -------\n",
      " |      P : :class:`qutip.Qobj`\n",
      " |          Permuted quantum object.\n",
      " |  \n",
      " |  proj(self)\n",
      " |      Form the projector from a given ket or bra vector.\n",
      " |      \n",
      " |      Parameters\n",
      " |      ----------\n",
      " |      Q : :class:`qutip.Qobj`\n",
      " |          Input bra or ket vector\n",
      " |      \n",
      " |      Returns\n",
      " |      -------\n",
      " |      P : :class:`qutip.Qobj`\n",
      " |          Projection operator.\n",
      " |  \n",
      " |  ptrace(self, sel, sparse=None)\n",
      " |      Partial trace of the quantum object.\n",
      " |      \n",
      " |      Parameters\n",
      " |      ----------\n",
      " |      sel : int/list\n",
      " |          An ``int`` or ``list`` of components to keep after partial trace.\n",
      " |          The order is unimportant; no transposition will be done and the\n",
      " |          spaces will remain in the same order in the output.\n",
      " |      \n",
      " |      Returns\n",
      " |      -------\n",
      " |      oper : :class:`qutip.Qobj`\n",
      " |          Quantum object representing partial trace with selected components\n",
      " |          remaining.\n",
      " |      \n",
      " |      Notes\n",
      " |      -----\n",
      " |      This function is identical to the :func:`qutip.qobj.ptrace` function\n",
      " |      that has been deprecated.\n",
      " |  \n",
      " |  purity(self)\n",
      " |      Calculate purity of a quantum object.\n",
      " |      \n",
      " |      Returns\n",
      " |      -------\n",
      " |      state_purity : float\n",
      " |          Returns the purity of a quantum object.\n",
      " |          For a pure state, the purity is 1.\n",
      " |          For a mixed state of dimension `d`, 1/d<=purity<1.\n",
      " |  \n",
      " |  set_data(self, data)\n",
      " |      # Here we perfrom a check of the csr matrix type during setting of Q.data\n",
      " |  \n",
      " |  sinm(self)\n",
      " |      Sine of a quantum operator.\n",
      " |      \n",
      " |      Operator must be square.\n",
      " |      \n",
      " |      Returns\n",
      " |      -------\n",
      " |      oper : :class:`qutip.Qobj`\n",
      " |          Matrix sine of operator.\n",
      " |      \n",
      " |      Raises\n",
      " |      ------\n",
      " |      TypeError\n",
      " |          Quantum object is not square.\n",
      " |      \n",
      " |      Notes\n",
      " |      -----\n",
      " |      Uses the Q.expm() method.\n",
      " |  \n",
      " |  sqrtm(self, sparse=False, tol=0, maxiter=100000)\n",
      " |      Sqrt of a quantum operator.\n",
      " |      \n",
      " |      Operator must be square.\n",
      " |      \n",
      " |      Parameters\n",
      " |      ----------\n",
      " |      sparse : bool\n",
      " |          Use sparse eigenvalue/vector solver.\n",
      " |      tol : float\n",
      " |          Tolerance used by sparse solver (0 = machine precision).\n",
      " |      maxiter : int\n",
      " |          Maximum number of iterations used by sparse solver.\n",
      " |      \n",
      " |      Returns\n",
      " |      -------\n",
      " |      oper : :class:`qutip.Qobj`\n",
      " |          Matrix square root of operator.\n",
      " |      \n",
      " |      Raises\n",
      " |      ------\n",
      " |      TypeError\n",
      " |          Quantum object is not square.\n",
      " |      \n",
      " |      Notes\n",
      " |      -----\n",
      " |      The sparse eigensolver is much slower than the dense version.\n",
      " |      Use sparse only if memory requirements demand it.\n",
      " |  \n",
      " |  tidyup(self, atol=None)\n",
      " |      Removes small elements from the quantum object.\n",
      " |      \n",
      " |      Parameters\n",
      " |      ----------\n",
      " |      atol : float\n",
      " |          Absolute tolerance used by tidyup. Default is set\n",
      " |          via qutip global settings parameters.\n",
      " |      \n",
      " |      Returns\n",
      " |      -------\n",
      " |      oper : :class:`qutip.Qobj`\n",
      " |          Quantum object with small elements removed.\n",
      " |  \n",
      " |  tr(self)\n",
      " |      Trace of a quantum object.\n",
      " |      \n",
      " |      Returns\n",
      " |      -------\n",
      " |      trace : float\n",
      " |          Returns the trace of the quantum object.\n",
      " |  \n",
      " |  trans(self)\n",
      " |      Transposed operator.\n",
      " |      \n",
      " |      Returns\n",
      " |      -------\n",
      " |      oper : :class:`qutip.Qobj`\n",
      " |          Transpose of input operator.\n",
      " |  \n",
      " |  transform(self, inpt, inverse=False, sparse=True)\n",
      " |      Basis transform defined by input array.\n",
      " |      \n",
      " |      Input array can be a ``matrix`` defining the transformation,\n",
      " |      or a ``list`` of kets that defines the new basis.\n",
      " |      \n",
      " |      \n",
      " |      Parameters\n",
      " |      ----------\n",
      " |      inpt : array_like\n",
      " |          A ``matrix`` or ``list`` of kets defining the transformation.\n",
      " |      inverse : bool\n",
      " |          Whether to return inverse transformation.\n",
      " |      sparse : bool\n",
      " |          Use sparse matrices when possible. Can be slower.\n",
      " |      \n",
      " |      Returns\n",
      " |      -------\n",
      " |      oper : :class:`qutip.Qobj`\n",
      " |          Operator in new basis.\n",
      " |      \n",
      " |      Notes\n",
      " |      -----\n",
      " |      This function is still in development.\n",
      " |  \n",
      " |  trunc_neg(self, method='clip')\n",
      " |      Truncates negative eigenvalues and renormalizes.\n",
      " |      \n",
      " |      Returns a new Qobj by removing the negative eigenvalues\n",
      " |      of this instance, then renormalizing to obtain a valid density\n",
      " |      operator.\n",
      " |      \n",
      " |      \n",
      " |      Parameters\n",
      " |      ----------\n",
      " |      method : str\n",
      " |          Algorithm to use to remove negative eigenvalues. \"clip\"\n",
      " |          simply discards negative eigenvalues, then renormalizes.\n",
      " |          \"sgs\" uses the SGS algorithm (doi:10/bb76) to find the\n",
      " |          positive operator that is nearest in the Shatten 2-norm.\n",
      " |      \n",
      " |      Returns\n",
      " |      -------\n",
      " |      oper : :class:`qutip.Qobj`\n",
      " |          A valid density operator.\n",
      " |  \n",
      " |  unit(self, inplace=False, norm=None, sparse=False, tol=0, maxiter=100000)\n",
      " |      Operator or state normalized to unity.\n",
      " |      \n",
      " |      Uses norm from Qobj.norm().\n",
      " |      \n",
      " |      Parameters\n",
      " |      ----------\n",
      " |      inplace : bool\n",
      " |          Do an in-place normalization\n",
      " |      norm : str\n",
      " |          Requested norm for states / operators.\n",
      " |      sparse : bool\n",
      " |          Use sparse eigensolver for trace norm. Does not affect other norms.\n",
      " |      tol : float\n",
      " |          Tolerance used by sparse eigensolver.\n",
      " |      maxiter : int\n",
      " |          Number of maximum iterations performed by sparse eigensolver.\n",
      " |      \n",
      " |      Returns\n",
      " |      -------\n",
      " |      oper : :class:`qutip.Qobj`\n",
      " |          Normalized quantum object if not in-place,\n",
      " |          else None.\n",
      " |  \n",
      " |  ----------------------------------------------------------------------\n",
      " |  Static methods defined here:\n",
      " |  \n",
      " |  evaluate(qobj_list, t, args)\n",
      " |      Evaluate a time-dependent quantum object in list format. For\n",
      " |      example,\n",
      " |      \n",
      " |          qobj_list = [H0, [H1, func_t]]\n",
      " |      \n",
      " |      is evaluated to\n",
      " |      \n",
      " |          Qobj(t) = H0 + H1 * func_t(t, args)\n",
      " |      \n",
      " |      and\n",
      " |      \n",
      " |          qobj_list = [H0, [H1, 'sin(w * t)']]\n",
      " |      \n",
      " |      is evaluated to\n",
      " |      \n",
      " |          Qobj(t) = H0 + H1 * sin(args['w'] * t)\n",
      " |      \n",
      " |      Parameters\n",
      " |      ----------\n",
      " |      qobj_list : list\n",
      " |          A nested list of Qobj instances and corresponding time-dependent\n",
      " |          coefficients.\n",
      " |      t : float\n",
      " |          The time for which to evaluate the time-dependent Qobj instance.\n",
      " |      args : dictionary\n",
      " |          A dictionary with parameter values required to evaluate the\n",
      " |          time-dependent Qobj intance.\n",
      " |      \n",
      " |      Returns\n",
      " |      -------\n",
      " |      output : :class:`qutip.Qobj`\n",
      " |          A Qobj instance that represents the value of qobj_list at time t.\n",
      " |  \n",
      " |  ----------------------------------------------------------------------\n",
      " |  Readonly properties defined here:\n",
      " |  \n",
      " |  isbra\n",
      " |  \n",
      " |  iscp\n",
      " |  \n",
      " |  iscptp\n",
      " |  \n",
      " |  ishp\n",
      " |  \n",
      " |  isket\n",
      " |  \n",
      " |  isoper\n",
      " |  \n",
      " |  isoperbra\n",
      " |  \n",
      " |  isoperket\n",
      " |  \n",
      " |  issuper\n",
      " |  \n",
      " |  istp\n",
      " |  \n",
      " |  shape\n",
      " |  \n",
      " |  type\n",
      " |  \n",
      " |  ----------------------------------------------------------------------\n",
      " |  Data descriptors defined here:\n",
      " |  \n",
      " |  __dict__\n",
      " |      dictionary for instance variables (if defined)\n",
      " |  \n",
      " |  __weakref__\n",
      " |      list of weak references to the object (if defined)\n",
      " |  \n",
      " |  data\n",
      " |  \n",
      " |  isherm\n",
      " |  \n",
      " |  isunitary\n",
      " |  \n",
      " |  ----------------------------------------------------------------------\n",
      " |  Data and other attributes defined here:\n",
      " |  \n",
      " |  __array_priority__ = 100\n",
      " |  \n",
      " |  __array_ufunc__ = None\n",
      " |  \n",
      " |  __hash__ = None\n",
      "\n"
     ]
    }
   ],
   "source": [
    "help(Qobj)"
   ]
  },
  {
   "cell_type": "code",
   "execution_count": 21,
   "metadata": {},
   "outputs": [
    {
     "data": {
      "text/plain": [
       "['__abs__',\n",
       " '__add__',\n",
       " '__array__',\n",
       " '__array_priority__',\n",
       " '__array_ufunc__',\n",
       " '__call__',\n",
       " '__class__',\n",
       " '__delattr__',\n",
       " '__dict__',\n",
       " '__dir__',\n",
       " '__div__',\n",
       " '__doc__',\n",
       " '__eq__',\n",
       " '__format__',\n",
       " '__ge__',\n",
       " '__getattribute__',\n",
       " '__getitem__',\n",
       " '__getstate__',\n",
       " '__gt__',\n",
       " '__hash__',\n",
       " '__init__',\n",
       " '__init_subclass__',\n",
       " '__le__',\n",
       " '__lt__',\n",
       " '__module__',\n",
       " '__mul__',\n",
       " '__ne__',\n",
       " '__neg__',\n",
       " '__new__',\n",
       " '__pow__',\n",
       " '__radd__',\n",
       " '__reduce__',\n",
       " '__reduce_ex__',\n",
       " '__repr__',\n",
       " '__rmul__',\n",
       " '__rsub__',\n",
       " '__setattr__',\n",
       " '__setstate__',\n",
       " '__sizeof__',\n",
       " '__str__',\n",
       " '__sub__',\n",
       " '__subclasshook__',\n",
       " '__truediv__',\n",
       " '__weakref__',\n",
       " '_repr_latex_',\n",
       " 'check_herm',\n",
       " 'check_isunitary',\n",
       " 'conj',\n",
       " 'copy',\n",
       " 'cosm',\n",
       " 'dag',\n",
       " 'data',\n",
       " 'diag',\n",
       " 'dnorm',\n",
       " 'dual_chan',\n",
       " 'eigenenergies',\n",
       " 'eigenstates',\n",
       " 'eliminate_states',\n",
       " 'evaluate',\n",
       " 'expm',\n",
       " 'extract_states',\n",
       " 'full',\n",
       " 'get_data',\n",
       " 'groundstate',\n",
       " 'inv',\n",
       " 'isbra',\n",
       " 'iscp',\n",
       " 'iscptp',\n",
       " 'isherm',\n",
       " 'ishp',\n",
       " 'isket',\n",
       " 'isoper',\n",
       " 'isoperbra',\n",
       " 'isoperket',\n",
       " 'issuper',\n",
       " 'istp',\n",
       " 'isunitary',\n",
       " 'matrix_element',\n",
       " 'norm',\n",
       " 'overlap',\n",
       " 'permute',\n",
       " 'proj',\n",
       " 'ptrace',\n",
       " 'purity',\n",
       " 'set_data',\n",
       " 'shape',\n",
       " 'sinm',\n",
       " 'sqrtm',\n",
       " 'tidyup',\n",
       " 'tr',\n",
       " 'trans',\n",
       " 'transform',\n",
       " 'trunc_neg',\n",
       " 'type',\n",
       " 'unit']"
      ]
     },
     "execution_count": 21,
     "metadata": {},
     "output_type": "execute_result"
    }
   ],
   "source": [
    "dir(Qobj)"
   ]
  },
  {
   "cell_type": "markdown",
   "metadata": {},
   "source": [
    "## States and Operators"
   ]
  },
  {
   "cell_type": "markdown",
   "metadata": {},
   "source": [
    "Normally we do not need to create `Qobj` instances from scracth, using its constructor and passing its matrix representation as argument. Instead we can use function in QuTiP that generate common states and operators for us. here are some examples of built-in state"
   ]
  },
  {
   "cell_type": "markdown",
   "metadata": {},
   "source": [
    "### State Vectors"
   ]
  },
  {
   "cell_type": "markdown",
   "metadata": {},
   "source": [
    "A Fock state or number state is a quantum state that is an element of a Fock space."
   ]
  },
  {
   "cell_type": "code",
   "execution_count": 23,
   "metadata": {},
   "outputs": [
    {
     "data": {
      "text/latex": [
       "Quantum object: dims = [[2], [1]], shape = (2, 1), type = ket $ \\\\ \\left(\\begin{matrix}0.0\\\\1.0\\\\\\end{matrix}\\right)$"
      ],
      "text/plain": [
       "Quantum object: dims = [[2], [1]], shape = (2, 1), type = ket\n",
       "Qobj data =\n",
       "[[0.]\n",
       " [1.]]"
      ]
     },
     "execution_count": 23,
     "metadata": {},
     "output_type": "execute_result"
    }
   ],
   "source": [
    "# fock state of oscillator modes\n",
    "\n",
    "N = 2 # number of states in the Hilbert space\n",
    "n = 1 # number of states that will be occupied\n",
    "\n",
    "basis(N, n) # the fock state (N,n)"
   ]
  },
  {
   "cell_type": "code",
   "execution_count": 25,
   "metadata": {},
   "outputs": [
    {
     "data": {
      "text/latex": [
       "Quantum object: dims = [[4], [1]], shape = (4, 1), type = ket $ \\\\ \\left(\\begin{matrix}0.0\\\\0.0\\\\1.0\\\\0.0\\\\\\end{matrix}\\right)$"
      ],
      "text/plain": [
       "Quantum object: dims = [[4], [1]], shape = (4, 1), type = ket\n",
       "Qobj data =\n",
       "[[0.]\n",
       " [0.]\n",
       " [1.]\n",
       " [0.]]"
      ]
     },
     "execution_count": 25,
     "metadata": {},
     "output_type": "execute_result"
    }
   ],
   "source": [
    "fock(4, 2) # the fock state (N,n)"
   ]
  },
  {
   "cell_type": "code",
   "execution_count": 26,
   "metadata": {},
   "outputs": [
    {
     "data": {
      "text/latex": [
       "Quantum object: dims = [[10], [1]], shape = (10, 1), type = ket $ \\\\ \\left(\\begin{matrix}0.607\\\\0.607\\\\0.429\\\\0.248\\\\0.124\\\\0.055\\\\0.023\\\\0.009\\\\0.003\\\\0.001\\\\\\end{matrix}\\right)$"
      ],
      "text/plain": [
       "Quantum object: dims = [[10], [1]], shape = (10, 1), type = ket\n",
       "Qobj data =\n",
       "[[0.60653066]\n",
       " [0.60653066]\n",
       " [0.42888194]\n",
       " [0.24761511]\n",
       " [0.12380753]\n",
       " [0.0553686 ]\n",
       " [0.02260303]\n",
       " [0.00854887]\n",
       " [0.00299672]\n",
       " [0.00110007]]"
      ]
     },
     "execution_count": 26,
     "metadata": {},
     "output_type": "execute_result"
    }
   ],
   "source": [
    "# a coherent state\n",
    "coherent(N=10, alpha=1.0) # the coherent state with alpha = 1.0"
   ]
  },
  {
   "cell_type": "markdown",
   "metadata": {},
   "source": [
    "### Density Matrices"
   ]
  },
  {
   "cell_type": "code",
   "execution_count": 28,
   "metadata": {},
   "outputs": [
    {
     "data": {
      "text/latex": [
       "Quantum object: dims = [[10], [10]], shape = (10, 10), type = oper, isherm = True $ \\\\ \\left(\\begin{matrix}0.0 & 0.0 & 0.0 & 0.0 & 0.0 & 0.0 & 0.0 & 0.0 & 0.0 & 0.0\\\\0.0 & 0.0 & 0.0 & 0.0 & 0.0 & 0.0 & 0.0 & 0.0 & 0.0 & 0.0\\\\0.0 & 0.0 & 1.0 & 0.0 & 0.0 & 0.0 & 0.0 & 0.0 & 0.0 & 0.0\\\\0.0 & 0.0 & 0.0 & 0.0 & 0.0 & 0.0 & 0.0 & 0.0 & 0.0 & 0.0\\\\0.0 & 0.0 & 0.0 & 0.0 & 0.0 & 0.0 & 0.0 & 0.0 & 0.0 & 0.0\\\\0.0 & 0.0 & 0.0 & 0.0 & 0.0 & 0.0 & 0.0 & 0.0 & 0.0 & 0.0\\\\0.0 & 0.0 & 0.0 & 0.0 & 0.0 & 0.0 & 0.0 & 0.0 & 0.0 & 0.0\\\\0.0 & 0.0 & 0.0 & 0.0 & 0.0 & 0.0 & 0.0 & 0.0 & 0.0 & 0.0\\\\0.0 & 0.0 & 0.0 & 0.0 & 0.0 & 0.0 & 0.0 & 0.0 & 0.0 & 0.0\\\\0.0 & 0.0 & 0.0 & 0.0 & 0.0 & 0.0 & 0.0 & 0.0 & 0.0 & 0.0\\\\\\end{matrix}\\right)$"
      ],
      "text/plain": [
       "Quantum object: dims = [[10], [10]], shape = (10, 10), type = oper, isherm = True\n",
       "Qobj data =\n",
       "[[0. 0. 0. 0. 0. 0. 0. 0. 0. 0.]\n",
       " [0. 0. 0. 0. 0. 0. 0. 0. 0. 0.]\n",
       " [0. 0. 1. 0. 0. 0. 0. 0. 0. 0.]\n",
       " [0. 0. 0. 0. 0. 0. 0. 0. 0. 0.]\n",
       " [0. 0. 0. 0. 0. 0. 0. 0. 0. 0.]\n",
       " [0. 0. 0. 0. 0. 0. 0. 0. 0. 0.]\n",
       " [0. 0. 0. 0. 0. 0. 0. 0. 0. 0.]\n",
       " [0. 0. 0. 0. 0. 0. 0. 0. 0. 0.]\n",
       " [0. 0. 0. 0. 0. 0. 0. 0. 0. 0.]\n",
       " [0. 0. 0. 0. 0. 0. 0. 0. 0. 0.]]"
      ]
     },
     "execution_count": 28,
     "metadata": {},
     "output_type": "execute_result"
    }
   ],
   "source": [
    "# a fock state as a density matrix\n",
    "fock_dm(10,2) # the density matrix of the fock state (N,n)"
   ]
  },
  {
   "cell_type": "code",
   "execution_count": 29,
   "metadata": {},
   "outputs": [
    {
     "data": {
      "text/latex": [
       "Quantum object: dims = [[10], [10]], shape = (10, 10), type = oper, isherm = True $ \\\\ \\left(\\begin{matrix}0.368 & 0.368 & 0.260 & 0.150 & 0.075 & 0.034 & 0.014 & 0.005 & 0.002 & 6.672\\times10^{-04}\\\\0.368 & 0.368 & 0.260 & 0.150 & 0.075 & 0.034 & 0.014 & 0.005 & 0.002 & 6.672\\times10^{-04}\\\\0.260 & 0.260 & 0.184 & 0.106 & 0.053 & 0.024 & 0.010 & 0.004 & 0.001 & 4.718\\times10^{-04}\\\\0.150 & 0.150 & 0.106 & 0.061 & 0.031 & 0.014 & 0.006 & 0.002 & 7.420\\times10^{-04} & 2.724\\times10^{-04}\\\\0.075 & 0.075 & 0.053 & 0.031 & 0.015 & 0.007 & 0.003 & 0.001 & 3.710\\times10^{-04} & 1.362\\times10^{-04}\\\\0.034 & 0.034 & 0.024 & 0.014 & 0.007 & 0.003 & 0.001 & 4.733\\times10^{-04} & 1.659\\times10^{-04} & 6.091\\times10^{-05}\\\\0.014 & 0.014 & 0.010 & 0.006 & 0.003 & 0.001 & 5.109\\times10^{-04} & 1.932\\times10^{-04} & 6.774\\times10^{-05} & 2.486\\times10^{-05}\\\\0.005 & 0.005 & 0.004 & 0.002 & 0.001 & 4.733\\times10^{-04} & 1.932\\times10^{-04} & 7.308\\times10^{-05} & 2.562\\times10^{-05} & 9.404\\times10^{-06}\\\\0.002 & 0.002 & 0.001 & 7.420\\times10^{-04} & 3.710\\times10^{-04} & 1.659\\times10^{-04} & 6.774\\times10^{-05} & 2.562\\times10^{-05} & 8.980\\times10^{-06} & 3.297\\times10^{-06}\\\\6.672\\times10^{-04} & 6.672\\times10^{-04} & 4.718\\times10^{-04} & 2.724\\times10^{-04} & 1.362\\times10^{-04} & 6.091\\times10^{-05} & 2.486\\times10^{-05} & 9.404\\times10^{-06} & 3.297\\times10^{-06} & 1.210\\times10^{-06}\\\\\\end{matrix}\\right)$"
      ],
      "text/plain": [
       "Quantum object: dims = [[10], [10]], shape = (10, 10), type = oper, isherm = True\n",
       "Qobj data =\n",
       "[[3.67879441e-01 3.67879441e-01 2.60130047e-01 1.50186155e-01\n",
       "  7.50930613e-02 3.35827506e-02 1.37094277e-02 5.18515195e-03\n",
       "  1.81760459e-03 6.67227779e-04]\n",
       " [3.67879441e-01 3.67879441e-01 2.60130047e-01 1.50186155e-01\n",
       "  7.50930613e-02 3.35827506e-02 1.37094277e-02 5.18515195e-03\n",
       "  1.81760459e-03 6.67227779e-04]\n",
       " [2.60130047e-01 2.60130047e-01 1.83939720e-01 1.06197648e-01\n",
       "  5.30988128e-02 2.37465906e-02 9.69402930e-03 3.66645610e-03\n",
       "  1.28524053e-03 4.71801286e-04]\n",
       " [1.50186155e-01 1.50186155e-01 1.06197648e-01 6.13132417e-02\n",
       "  3.06566143e-02 1.37101007e-02 5.59685050e-03 2.11682944e-03\n",
       "  7.42033975e-04 2.72394603e-04]\n",
       " [7.50930613e-02 7.50930613e-02 5.30988128e-02 3.06566143e-02\n",
       "  1.53283038e-02 6.85504886e-03 2.79842465e-03 1.05841449e-03\n",
       "  3.71016908e-04 1.36197272e-04]\n",
       " [3.35827506e-02 3.35827506e-02 2.37465906e-02 1.37101007e-02\n",
       "  6.85504886e-03 3.06568133e-03 1.25149775e-03 4.73338939e-04\n",
       "  1.65924362e-04 6.09094762e-05]\n",
       " [1.37094277e-02 1.37094277e-02 9.69402930e-03 5.59685050e-03\n",
       "  2.79842465e-03 1.25149775e-03 5.10896743e-04 1.93230330e-04\n",
       "  6.77350130e-05 2.48649693e-05]\n",
       " [5.18515195e-03 5.18515195e-03 3.66645610e-03 2.11682944e-03\n",
       "  1.05841449e-03 4.73338939e-04 1.93230330e-04 7.30831835e-05\n",
       "  2.56185992e-05 9.40437825e-06]\n",
       " [1.81760459e-03 1.81760459e-03 1.28524053e-03 7.42033975e-04\n",
       "  3.71016908e-04 1.65924362e-04 6.77350130e-05 2.56185992e-05\n",
       "  8.98035082e-06 3.29661334e-06]\n",
       " [6.67227779e-04 6.67227779e-04 4.71801286e-04 2.72394603e-04\n",
       "  1.36197272e-04 6.09094762e-05 2.48649693e-05 9.40437825e-06\n",
       "  3.29661334e-06 1.21015979e-06]]"
      ]
     },
     "execution_count": 29,
     "metadata": {},
     "output_type": "execute_result"
    }
   ],
   "source": [
    "# coherent state as a density matrix\n",
    "coherent_dm(N=10, alpha=1.0) # the density matrix of the coherent state with alpha = 1.0"
   ]
  },
  {
   "cell_type": "code",
   "execution_count": 30,
   "metadata": {},
   "outputs": [
    {
     "data": {
      "text/latex": [
       "Quantum object: dims = [[10], [10]], shape = (10, 10), type = oper, isherm = True $ \\\\ \\left(\\begin{matrix}0.500 & 0.0 & 0.0 & 0.0 & 0.0 & 0.0 & 0.0 & 0.0 & 0.0 & 0.0\\\\0.0 & 0.250 & 0.0 & 0.0 & 0.0 & 0.0 & 0.0 & 0.0 & 0.0 & 0.0\\\\0.0 & 0.0 & 0.125 & 0.0 & 0.0 & 0.0 & 0.0 & 0.0 & 0.0 & 0.0\\\\0.0 & 0.0 & 0.0 & 0.063 & 0.0 & 0.0 & 0.0 & 0.0 & 0.0 & 0.0\\\\0.0 & 0.0 & 0.0 & 0.0 & 0.031 & 0.0 & 0.0 & 0.0 & 0.0 & 0.0\\\\0.0 & 0.0 & 0.0 & 0.0 & 0.0 & 0.016 & 0.0 & 0.0 & 0.0 & 0.0\\\\0.0 & 0.0 & 0.0 & 0.0 & 0.0 & 0.0 & 0.008 & 0.0 & 0.0 & 0.0\\\\0.0 & 0.0 & 0.0 & 0.0 & 0.0 & 0.0 & 0.0 & 0.004 & 0.0 & 0.0\\\\0.0 & 0.0 & 0.0 & 0.0 & 0.0 & 0.0 & 0.0 & 0.0 & 0.002 & 0.0\\\\0.0 & 0.0 & 0.0 & 0.0 & 0.0 & 0.0 & 0.0 & 0.0 & 0.0 & 9.775\\times10^{-04}\\\\\\end{matrix}\\right)$"
      ],
      "text/plain": [
       "Quantum object: dims = [[10], [10]], shape = (10, 10), type = oper, isherm = True\n",
       "Qobj data =\n",
       "[[0.50048876 0.         0.         0.         0.         0.\n",
       "  0.         0.         0.         0.        ]\n",
       " [0.         0.25024438 0.         0.         0.         0.\n",
       "  0.         0.         0.         0.        ]\n",
       " [0.         0.         0.12512219 0.         0.         0.\n",
       "  0.         0.         0.         0.        ]\n",
       " [0.         0.         0.         0.06256109 0.         0.\n",
       "  0.         0.         0.         0.        ]\n",
       " [0.         0.         0.         0.         0.03128055 0.\n",
       "  0.         0.         0.         0.        ]\n",
       " [0.         0.         0.         0.         0.         0.01564027\n",
       "  0.         0.         0.         0.        ]\n",
       " [0.         0.         0.         0.         0.         0.\n",
       "  0.00782014 0.         0.         0.        ]\n",
       " [0.         0.         0.         0.         0.         0.\n",
       "  0.         0.00391007 0.         0.        ]\n",
       " [0.         0.         0.         0.         0.         0.\n",
       "  0.         0.         0.00195503 0.        ]\n",
       " [0.         0.         0.         0.         0.         0.\n",
       "  0.         0.         0.         0.00097752]]"
      ]
     },
     "execution_count": 30,
     "metadata": {},
     "output_type": "execute_result"
    }
   ],
   "source": [
    "# thermal state\n",
    "n = 1 # average number of thermal photons\n",
    "thermal_dm(10, n) # the density matrix of the thermal state"
   ]
  },
  {
   "cell_type": "markdown",
   "metadata": {},
   "source": [
    "### Operators"
   ]
  },
  {
   "cell_type": "markdown",
   "metadata": {},
   "source": [
    "Qubit Operators"
   ]
  },
  {
   "cell_type": "code",
   "execution_count": 31,
   "metadata": {},
   "outputs": [
    {
     "data": {
      "text/latex": [
       "Quantum object: dims = [[2], [2]], shape = (2, 2), type = oper, isherm = True $ \\\\ \\left(\\begin{matrix}0.0 & 1.0\\\\1.0 & 0.0\\\\\\end{matrix}\\right)$"
      ],
      "text/plain": [
       "Quantum object: dims = [[2], [2]], shape = (2, 2), type = oper, isherm = True\n",
       "Qobj data =\n",
       "[[0. 1.]\n",
       " [1. 0.]]"
      ]
     },
     "execution_count": 31,
     "metadata": {},
     "output_type": "execute_result"
    }
   ],
   "source": [
    "# pauli operators x\n",
    "sigmax()"
   ]
  },
  {
   "cell_type": "code",
   "execution_count": 32,
   "metadata": {},
   "outputs": [
    {
     "data": {
      "text/latex": [
       "Quantum object: dims = [[2], [2]], shape = (2, 2), type = oper, isherm = True $ \\\\ \\left(\\begin{matrix}0.0 & -1.0j\\\\1.0j & 0.0\\\\\\end{matrix}\\right)$"
      ],
      "text/plain": [
       "Quantum object: dims = [[2], [2]], shape = (2, 2), type = oper, isherm = True\n",
       "Qobj data =\n",
       "[[0.+0.j 0.-1.j]\n",
       " [0.+1.j 0.+0.j]]"
      ]
     },
     "execution_count": 32,
     "metadata": {},
     "output_type": "execute_result"
    }
   ],
   "source": [
    "# pauli operators y\n",
    "sigmay()"
   ]
  },
  {
   "cell_type": "code",
   "execution_count": 33,
   "metadata": {},
   "outputs": [
    {
     "data": {
      "text/latex": [
       "Quantum object: dims = [[2], [2]], shape = (2, 2), type = oper, isherm = True $ \\\\ \\left(\\begin{matrix}1.0 & 0.0\\\\0.0 & -1.0\\\\\\end{matrix}\\right)$"
      ],
      "text/plain": [
       "Quantum object: dims = [[2], [2]], shape = (2, 2), type = oper, isherm = True\n",
       "Qobj data =\n",
       "[[ 1.  0.]\n",
       " [ 0. -1.]]"
      ]
     },
     "execution_count": 33,
     "metadata": {},
     "output_type": "execute_result"
    }
   ],
   "source": [
    "# pauli operators z\n",
    "sigmaz()"
   ]
  },
  {
   "cell_type": "markdown",
   "metadata": {},
   "source": [
    "### Harmoinc Oscillator Operators"
   ]
  },
  {
   "cell_type": "code",
   "execution_count": 34,
   "metadata": {},
   "outputs": [
    {
     "data": {
      "text/latex": [
       "Quantum object: dims = [[10], [10]], shape = (10, 10), type = oper, isherm = False $ \\\\ \\left(\\begin{matrix}0.0 & 1.0 & 0.0 & 0.0 & 0.0 & 0.0 & 0.0 & 0.0 & 0.0 & 0.0\\\\0.0 & 0.0 & 1.414 & 0.0 & 0.0 & 0.0 & 0.0 & 0.0 & 0.0 & 0.0\\\\0.0 & 0.0 & 0.0 & 1.732 & 0.0 & 0.0 & 0.0 & 0.0 & 0.0 & 0.0\\\\0.0 & 0.0 & 0.0 & 0.0 & 2.0 & 0.0 & 0.0 & 0.0 & 0.0 & 0.0\\\\0.0 & 0.0 & 0.0 & 0.0 & 0.0 & 2.236 & 0.0 & 0.0 & 0.0 & 0.0\\\\0.0 & 0.0 & 0.0 & 0.0 & 0.0 & 0.0 & 2.449 & 0.0 & 0.0 & 0.0\\\\0.0 & 0.0 & 0.0 & 0.0 & 0.0 & 0.0 & 0.0 & 2.646 & 0.0 & 0.0\\\\0.0 & 0.0 & 0.0 & 0.0 & 0.0 & 0.0 & 0.0 & 0.0 & 2.828 & 0.0\\\\0.0 & 0.0 & 0.0 & 0.0 & 0.0 & 0.0 & 0.0 & 0.0 & 0.0 & 3.0\\\\0.0 & 0.0 & 0.0 & 0.0 & 0.0 & 0.0 & 0.0 & 0.0 & 0.0 & 0.0\\\\\\end{matrix}\\right)$"
      ],
      "text/plain": [
       "Quantum object: dims = [[10], [10]], shape = (10, 10), type = oper, isherm = False\n",
       "Qobj data =\n",
       "[[0.         1.         0.         0.         0.         0.\n",
       "  0.         0.         0.         0.        ]\n",
       " [0.         0.         1.41421356 0.         0.         0.\n",
       "  0.         0.         0.         0.        ]\n",
       " [0.         0.         0.         1.73205081 0.         0.\n",
       "  0.         0.         0.         0.        ]\n",
       " [0.         0.         0.         0.         2.         0.\n",
       "  0.         0.         0.         0.        ]\n",
       " [0.         0.         0.         0.         0.         2.23606798\n",
       "  0.         0.         0.         0.        ]\n",
       " [0.         0.         0.         0.         0.         0.\n",
       "  2.44948974 0.         0.         0.        ]\n",
       " [0.         0.         0.         0.         0.         0.\n",
       "  0.         2.64575131 0.         0.        ]\n",
       " [0.         0.         0.         0.         0.         0.\n",
       "  0.         0.         2.82842712 0.        ]\n",
       " [0.         0.         0.         0.         0.         0.\n",
       "  0.         0.         0.         3.        ]\n",
       " [0.         0.         0.         0.         0.         0.\n",
       "  0.         0.         0.         0.        ]]"
      ]
     },
     "execution_count": 34,
     "metadata": {},
     "output_type": "execute_result"
    }
   ],
   "source": [
    "# annihilation operator\n",
    "destroy(10)"
   ]
  },
  {
   "cell_type": "code",
   "execution_count": 35,
   "metadata": {},
   "outputs": [
    {
     "data": {
      "text/latex": [
       "Quantum object: dims = [[10], [10]], shape = (10, 10), type = oper, isherm = False $ \\\\ \\left(\\begin{matrix}0.0 & 0.0 & 0.0 & 0.0 & 0.0 & 0.0 & 0.0 & 0.0 & 0.0 & 0.0\\\\1.0 & 0.0 & 0.0 & 0.0 & 0.0 & 0.0 & 0.0 & 0.0 & 0.0 & 0.0\\\\0.0 & 1.414 & 0.0 & 0.0 & 0.0 & 0.0 & 0.0 & 0.0 & 0.0 & 0.0\\\\0.0 & 0.0 & 1.732 & 0.0 & 0.0 & 0.0 & 0.0 & 0.0 & 0.0 & 0.0\\\\0.0 & 0.0 & 0.0 & 2.0 & 0.0 & 0.0 & 0.0 & 0.0 & 0.0 & 0.0\\\\0.0 & 0.0 & 0.0 & 0.0 & 2.236 & 0.0 & 0.0 & 0.0 & 0.0 & 0.0\\\\0.0 & 0.0 & 0.0 & 0.0 & 0.0 & 2.449 & 0.0 & 0.0 & 0.0 & 0.0\\\\0.0 & 0.0 & 0.0 & 0.0 & 0.0 & 0.0 & 2.646 & 0.0 & 0.0 & 0.0\\\\0.0 & 0.0 & 0.0 & 0.0 & 0.0 & 0.0 & 0.0 & 2.828 & 0.0 & 0.0\\\\0.0 & 0.0 & 0.0 & 0.0 & 0.0 & 0.0 & 0.0 & 0.0 & 3.0 & 0.0\\\\\\end{matrix}\\right)$"
      ],
      "text/plain": [
       "Quantum object: dims = [[10], [10]], shape = (10, 10), type = oper, isherm = False\n",
       "Qobj data =\n",
       "[[0.         0.         0.         0.         0.         0.\n",
       "  0.         0.         0.         0.        ]\n",
       " [1.         0.         0.         0.         0.         0.\n",
       "  0.         0.         0.         0.        ]\n",
       " [0.         1.41421356 0.         0.         0.         0.\n",
       "  0.         0.         0.         0.        ]\n",
       " [0.         0.         1.73205081 0.         0.         0.\n",
       "  0.         0.         0.         0.        ]\n",
       " [0.         0.         0.         2.         0.         0.\n",
       "  0.         0.         0.         0.        ]\n",
       " [0.         0.         0.         0.         2.23606798 0.\n",
       "  0.         0.         0.         0.        ]\n",
       " [0.         0.         0.         0.         0.         2.44948974\n",
       "  0.         0.         0.         0.        ]\n",
       " [0.         0.         0.         0.         0.         0.\n",
       "  2.64575131 0.         0.         0.        ]\n",
       " [0.         0.         0.         0.         0.         0.\n",
       "  0.         2.82842712 0.         0.        ]\n",
       " [0.         0.         0.         0.         0.         0.\n",
       "  0.         0.         3.         0.        ]]"
      ]
     },
     "execution_count": 35,
     "metadata": {},
     "output_type": "execute_result"
    }
   ],
   "source": [
    "# creation operator\n",
    "create(10)"
   ]
  },
  {
   "cell_type": "code",
   "execution_count": 36,
   "metadata": {},
   "outputs": [
    {
     "data": {
      "text/latex": [
       "Quantum object: dims = [[10], [10]], shape = (10, 10), type = oper, isherm = True $ \\\\ \\left(\\begin{matrix}0.0 & 1.0 & 0.0 & 0.0 & 0.0 & 0.0 & 0.0 & 0.0 & 0.0 & 0.0\\\\1.0 & 0.0 & 1.414 & 0.0 & 0.0 & 0.0 & 0.0 & 0.0 & 0.0 & 0.0\\\\0.0 & 1.414 & 0.0 & 1.732 & 0.0 & 0.0 & 0.0 & 0.0 & 0.0 & 0.0\\\\0.0 & 0.0 & 1.732 & 0.0 & 2.0 & 0.0 & 0.0 & 0.0 & 0.0 & 0.0\\\\0.0 & 0.0 & 0.0 & 2.0 & 0.0 & 2.236 & 0.0 & 0.0 & 0.0 & 0.0\\\\0.0 & 0.0 & 0.0 & 0.0 & 2.236 & 0.0 & 2.449 & 0.0 & 0.0 & 0.0\\\\0.0 & 0.0 & 0.0 & 0.0 & 0.0 & 2.449 & 0.0 & 2.646 & 0.0 & 0.0\\\\0.0 & 0.0 & 0.0 & 0.0 & 0.0 & 0.0 & 2.646 & 0.0 & 2.828 & 0.0\\\\0.0 & 0.0 & 0.0 & 0.0 & 0.0 & 0.0 & 0.0 & 2.828 & 0.0 & 3.0\\\\0.0 & 0.0 & 0.0 & 0.0 & 0.0 & 0.0 & 0.0 & 0.0 & 3.0 & 0.0\\\\\\end{matrix}\\right)$"
      ],
      "text/plain": [
       "Quantum object: dims = [[10], [10]], shape = (10, 10), type = oper, isherm = True\n",
       "Qobj data =\n",
       "[[0.         1.         0.         0.         0.         0.\n",
       "  0.         0.         0.         0.        ]\n",
       " [1.         0.         1.41421356 0.         0.         0.\n",
       "  0.         0.         0.         0.        ]\n",
       " [0.         1.41421356 0.         1.73205081 0.         0.\n",
       "  0.         0.         0.         0.        ]\n",
       " [0.         0.         1.73205081 0.         2.         0.\n",
       "  0.         0.         0.         0.        ]\n",
       " [0.         0.         0.         2.         0.         2.23606798\n",
       "  0.         0.         0.         0.        ]\n",
       " [0.         0.         0.         0.         2.23606798 0.\n",
       "  2.44948974 0.         0.         0.        ]\n",
       " [0.         0.         0.         0.         0.         2.44948974\n",
       "  0.         2.64575131 0.         0.        ]\n",
       " [0.         0.         0.         0.         0.         0.\n",
       "  2.64575131 0.         2.82842712 0.        ]\n",
       " [0.         0.         0.         0.         0.         0.\n",
       "  0.         2.82842712 0.         3.        ]\n",
       " [0.         0.         0.         0.         0.         0.\n",
       "  0.         0.         3.         0.        ]]"
      ]
     },
     "execution_count": 36,
     "metadata": {},
     "output_type": "execute_result"
    }
   ],
   "source": [
    "# the psoition operator\n",
    "\n",
    "a = destroy(10)\n",
    "\n",
    "x = a + a.dag()\n",
    "\n",
    "x"
   ]
  },
  {
   "cell_type": "markdown",
   "metadata": {},
   "source": [
    "**Using `Qobj` we can check some well known commutation relations:**"
   ]
  },
  {
   "cell_type": "code",
   "execution_count": 37,
   "metadata": {},
   "outputs": [],
   "source": [
    "def commutator(op1, op2):\n",
    "    return op1 * op2 - op2 * op1"
   ]
  },
  {
   "cell_type": "code",
   "execution_count": 38,
   "metadata": {},
   "outputs": [
    {
     "data": {
      "text/latex": [
       "Quantum object: dims = [[10], [10]], shape = (10, 10), type = oper, isherm = True $ \\\\ \\left(\\begin{matrix}1.0 & 0.0 & 0.0 & 0.0 & 0.0 & 0.0 & 0.0 & 0.0 & 0.0 & 0.0\\\\0.0 & 1.0 & 0.0 & 0.0 & 0.0 & 0.0 & 0.0 & 0.0 & 0.0 & 0.0\\\\0.0 & 0.0 & 1.000 & 0.0 & 0.0 & 0.0 & 0.0 & 0.0 & 0.0 & 0.0\\\\0.0 & 0.0 & 0.0 & 1.0 & 0.0 & 0.0 & 0.0 & 0.0 & 0.0 & 0.0\\\\0.0 & 0.0 & 0.0 & 0.0 & 1.0 & 0.0 & 0.0 & 0.0 & 0.0 & 0.0\\\\0.0 & 0.0 & 0.0 & 0.0 & 0.0 & 1.000 & 0.0 & 0.0 & 0.0 & 0.0\\\\0.0 & 0.0 & 0.0 & 0.0 & 0.0 & 0.0 & 1.0 & 0.0 & 0.0 & 0.0\\\\0.0 & 0.0 & 0.0 & 0.0 & 0.0 & 0.0 & 0.0 & 1.0 & 0.0 & 0.0\\\\0.0 & 0.0 & 0.0 & 0.0 & 0.0 & 0.0 & 0.0 & 0.0 & 1.000 & 0.0\\\\0.0 & 0.0 & 0.0 & 0.0 & 0.0 & 0.0 & 0.0 & 0.0 & 0.0 & -9.0\\\\\\end{matrix}\\right)$"
      ],
      "text/plain": [
       "Quantum object: dims = [[10], [10]], shape = (10, 10), type = oper, isherm = True\n",
       "Qobj data =\n",
       "[[ 1.  0.  0.  0.  0.  0.  0.  0.  0.  0.]\n",
       " [ 0.  1.  0.  0.  0.  0.  0.  0.  0.  0.]\n",
       " [ 0.  0.  1.  0.  0.  0.  0.  0.  0.  0.]\n",
       " [ 0.  0.  0.  1.  0.  0.  0.  0.  0.  0.]\n",
       " [ 0.  0.  0.  0.  1.  0.  0.  0.  0.  0.]\n",
       " [ 0.  0.  0.  0.  0.  1.  0.  0.  0.  0.]\n",
       " [ 0.  0.  0.  0.  0.  0.  1.  0.  0.  0.]\n",
       " [ 0.  0.  0.  0.  0.  0.  0.  1.  0.  0.]\n",
       " [ 0.  0.  0.  0.  0.  0.  0.  0.  1.  0.]\n",
       " [ 0.  0.  0.  0.  0.  0.  0.  0.  0. -9.]]"
      ]
     },
     "execution_count": 38,
     "metadata": {},
     "output_type": "execute_result"
    }
   ],
   "source": [
    "a = destroy(10)\n",
    "\n",
    "commutator(a, a.dag())"
   ]
  },
  {
   "cell_type": "markdown",
   "metadata": {},
   "source": [
    "The result is not Identity, because we have truncated the Hilbert space. but that's OK, as long as the highest Fock state isn't involved in the dynamics in our Hilber space.  "
   ]
  },
  {
   "cell_type": "markdown",
   "metadata": {},
   "source": [
    "$$ [x,p] = i$$"
   ]
  },
  {
   "cell_type": "code",
   "execution_count": 39,
   "metadata": {},
   "outputs": [],
   "source": [
    "x = (a+ a.dag())/np.sqrt(2)\n",
    "\n",
    "p = -1j * (a - a.dag())/np.sqrt(2)"
   ]
  },
  {
   "cell_type": "code",
   "execution_count": 40,
   "metadata": {},
   "outputs": [
    {
     "data": {
      "text/latex": [
       "Quantum object: dims = [[10], [10]], shape = (10, 10), type = oper, isherm = False $ \\\\ \\left(\\begin{matrix}1.000j & 0.0 & 0.0 & 0.0 & 0.0 & 0.0 & 0.0 & 0.0 & 0.0 & 0.0\\\\0.0 & 1.0j & 0.0 & 0.0 & 0.0 & 0.0 & 0.0 & 0.0 & 0.0 & 0.0\\\\0.0 & 0.0 & 1.000j & 0.0 & 0.0 & 0.0 & 0.0 & 0.0 & 0.0 & 0.0\\\\0.0 & 0.0 & 0.0 & 1.000j & 0.0 & 0.0 & 0.0 & 0.0 & 0.0 & 0.0\\\\0.0 & 0.0 & 0.0 & 0.0 & 1.0j & 0.0 & 0.0 & 0.0 & 0.0 & 0.0\\\\0.0 & 0.0 & 0.0 & 0.0 & 0.0 & 1.000j & 0.0 & 0.0 & 0.0 & 0.0\\\\0.0 & 0.0 & 0.0 & 0.0 & 0.0 & 0.0 & 1.0j & 0.0 & 0.0 & 0.0\\\\0.0 & 0.0 & 0.0 & 0.0 & 0.0 & 0.0 & 0.0 & 1.0j & 0.0 & 0.0\\\\0.0 & 0.0 & 0.0 & 0.0 & 0.0 & 0.0 & 0.0 & 0.0 & 1.000j & 0.0\\\\0.0 & 0.0 & 0.0 & 0.0 & 0.0 & 0.0 & 0.0 & 0.0 & 0.0 & -9.000j\\\\\\end{matrix}\\right)$"
      ],
      "text/plain": [
       "Quantum object: dims = [[10], [10]], shape = (10, 10), type = oper, isherm = False\n",
       "Qobj data =\n",
       "[[0.+1.j 0.+0.j 0.+0.j 0.+0.j 0.+0.j 0.+0.j 0.+0.j 0.+0.j 0.+0.j 0.+0.j]\n",
       " [0.+0.j 0.+1.j 0.+0.j 0.+0.j 0.+0.j 0.+0.j 0.+0.j 0.+0.j 0.+0.j 0.+0.j]\n",
       " [0.+0.j 0.+0.j 0.+1.j 0.+0.j 0.+0.j 0.+0.j 0.+0.j 0.+0.j 0.+0.j 0.+0.j]\n",
       " [0.+0.j 0.+0.j 0.+0.j 0.+1.j 0.+0.j 0.+0.j 0.+0.j 0.+0.j 0.+0.j 0.+0.j]\n",
       " [0.+0.j 0.+0.j 0.+0.j 0.+0.j 0.+1.j 0.+0.j 0.+0.j 0.+0.j 0.+0.j 0.+0.j]\n",
       " [0.+0.j 0.+0.j 0.+0.j 0.+0.j 0.+0.j 0.+1.j 0.+0.j 0.+0.j 0.+0.j 0.+0.j]\n",
       " [0.+0.j 0.+0.j 0.+0.j 0.+0.j 0.+0.j 0.+0.j 0.+1.j 0.+0.j 0.+0.j 0.+0.j]\n",
       " [0.+0.j 0.+0.j 0.+0.j 0.+0.j 0.+0.j 0.+0.j 0.+0.j 0.+1.j 0.+0.j 0.+0.j]\n",
       " [0.+0.j 0.+0.j 0.+0.j 0.+0.j 0.+0.j 0.+0.j 0.+0.j 0.+0.j 0.+1.j 0.+0.j]\n",
       " [0.+0.j 0.+0.j 0.+0.j 0.+0.j 0.+0.j 0.+0.j 0.+0.j 0.+0.j 0.+0.j 0.-9.j]]"
      ]
     },
     "execution_count": 40,
     "metadata": {},
     "output_type": "execute_result"
    }
   ],
   "source": [
    "commutator(x, p)"
   ]
  },
  {
   "cell_type": "markdown",
   "metadata": {},
   "source": [
    "Same issue with the truncated Hilbert space, but it's okay"
   ]
  },
  {
   "cell_type": "markdown",
   "metadata": {},
   "source": [
    "Let's test some **Pauli Spin** inequalities"
   ]
  },
  {
   "cell_type": "markdown",
   "metadata": {},
   "source": [
    "$$ [\\sigma_x, \\sigma_y] = 2\\iota \\sigma_z $$"
   ]
  },
  {
   "cell_type": "code",
   "execution_count": 41,
   "metadata": {},
   "outputs": [
    {
     "data": {
      "text/latex": [
       "Quantum object: dims = [[2], [2]], shape = (2, 2), type = oper, isherm = True $ \\\\ \\left(\\begin{matrix}0.0 & 0.0\\\\0.0 & 0.0\\\\\\end{matrix}\\right)$"
      ],
      "text/plain": [
       "Quantum object: dims = [[2], [2]], shape = (2, 2), type = oper, isherm = True\n",
       "Qobj data =\n",
       "[[0. 0.]\n",
       " [0. 0.]]"
      ]
     },
     "execution_count": 41,
     "metadata": {},
     "output_type": "execute_result"
    }
   ],
   "source": [
    "commutator(sigmax(), sigmay()) - 2j * sigmaz()"
   ]
  },
  {
   "cell_type": "code",
   "execution_count": 42,
   "metadata": {},
   "outputs": [
    {
     "data": {
      "text/latex": [
       "Quantum object: dims = [[2], [2]], shape = (2, 2), type = oper, isherm = True $ \\\\ \\left(\\begin{matrix}0.0 & 1.0\\\\1.0 & 0.0\\\\\\end{matrix}\\right)$"
      ],
      "text/plain": [
       "Quantum object: dims = [[2], [2]], shape = (2, 2), type = oper, isherm = True\n",
       "Qobj data =\n",
       "[[0. 1.]\n",
       " [1. 0.]]"
      ]
     },
     "execution_count": 42,
     "metadata": {},
     "output_type": "execute_result"
    }
   ],
   "source": [
    "-1j * commutator(sigmay(), sigmaz()) - sigmax()"
   ]
  },
  {
   "cell_type": "code",
   "execution_count": 44,
   "metadata": {},
   "outputs": [
    {
     "data": {
      "text/plain": [
       "True"
      ]
     },
     "execution_count": 44,
     "metadata": {},
     "output_type": "execute_result"
    }
   ],
   "source": [
    "sigmaz() ** 2 == sigmay() ** 2 == sigmax() ** 2 == qeye(2)"
   ]
  },
  {
   "cell_type": "markdown",
   "metadata": {},
   "source": [
    "### Composite System\n",
    "\n",
    "In most cases we are interested in coupled quantum systems, like coupled qubits, a qubit coupled to a cavity etc.\n",
    "\n",
    "To define states and operators for such systems in QuTiP, we use the `tensor` function to create `Qobj` instances for the composite system. \n",
    "\n",
    "For example, consider the system composed of two qubits. If we want to create a Pauli $\\sigma_z$ operator that acts on the first qubit and leaves the second qubit unaffected $\\sigma_z \\otimes 1$, we would do"
   ]
  },
  {
   "cell_type": "code",
   "execution_count": 47,
   "metadata": {},
   "outputs": [
    {
     "data": {
      "text/latex": [
       "Quantum object: dims = [[2, 2], [2, 2]], shape = (4, 4), type = oper, isherm = True $ \\\\ \\left(\\begin{matrix}1.0 & 0.0 & 0.0 & 0.0\\\\0.0 & 1.0 & 0.0 & 0.0\\\\0.0 & 0.0 & -1.0 & 0.0\\\\0.0 & 0.0 & 0.0 & -1.0\\\\\\end{matrix}\\right)$"
      ],
      "text/plain": [
       "Quantum object: dims = [[2, 2], [2, 2]], shape = (4, 4), type = oper, isherm = True\n",
       "Qobj data =\n",
       "[[ 1.  0.  0.  0.]\n",
       " [ 0.  1.  0.  0.]\n",
       " [ 0.  0. -1.  0.]\n",
       " [ 0.  0.  0. -1.]]"
      ]
     },
     "execution_count": 47,
     "metadata": {},
     "output_type": "execute_result"
    }
   ],
   "source": [
    "sz1 = tensor(sigmaz(), qeye(2))\n",
    "\n",
    "sz1"
   ]
  },
  {
   "cell_type": "markdown",
   "metadata": {},
   "source": [
    "We can easily verify that this two-qubit operator does indeed have the desired properties:"
   ]
  },
  {
   "cell_type": "code",
   "execution_count": 48,
   "metadata": {},
   "outputs": [],
   "source": [
    "psi1 = tensor(basis(N,1),basis(N,0)) # excited state in the first qubit\n",
    "psi2 = tensor(basis(N,0),basis(N,1)) # excited state in the second qubit"
   ]
  },
  {
   "cell_type": "code",
   "execution_count": 49,
   "metadata": {},
   "outputs": [
    {
     "data": {
      "text/plain": [
       "False"
      ]
     },
     "execution_count": 49,
     "metadata": {},
     "output_type": "execute_result"
    }
   ],
   "source": [
    "\"\"\"\n",
    "This should be false, because sz1 should flip the sign of the excited state of psi1\n",
    "\"\"\"\n",
    "\n",
    "sz1 * psi1 == psi1"
   ]
  },
  {
   "cell_type": "code",
   "execution_count": 50,
   "metadata": {},
   "outputs": [
    {
     "data": {
      "text/plain": [
       "True"
      ]
     },
     "execution_count": 50,
     "metadata": {},
     "output_type": "execute_result"
    }
   ],
   "source": [
    "\"\"\" \n",
    "This should be true, because sz1 should not flip the sign of the excited state of psi2\n",
    "\"\"\"\n",
    "\n",
    "sz1 * psi2 == psi2"
   ]
  },
  {
   "cell_type": "markdown",
   "metadata": {},
   "source": [
    "We made use of the `qeye(N)` function, which generates the identity operator with $N$ quantum states. If we want to do the same thing for the second qubit we can do:"
   ]
  },
  {
   "cell_type": "code",
   "execution_count": 51,
   "metadata": {},
   "outputs": [
    {
     "data": {
      "text/latex": [
       "Quantum object: dims = [[2, 2], [2, 2]], shape = (4, 4), type = oper, isherm = True $ \\\\ \\left(\\begin{matrix}1.0 & 0.0 & 0.0 & 0.0\\\\0.0 & -1.0 & 0.0 & 0.0\\\\0.0 & 0.0 & 1.0 & 0.0\\\\0.0 & 0.0 & 0.0 & -1.0\\\\\\end{matrix}\\right)$"
      ],
      "text/plain": [
       "Quantum object: dims = [[2, 2], [2, 2]], shape = (4, 4), type = oper, isherm = True\n",
       "Qobj data =\n",
       "[[ 1.  0.  0.  0.]\n",
       " [ 0. -1.  0.  0.]\n",
       " [ 0.  0.  1.  0.]\n",
       " [ 0.  0.  0. -1.]]"
      ]
     },
     "execution_count": 51,
     "metadata": {},
     "output_type": "execute_result"
    }
   ],
   "source": [
    "sz2 = tensor(qeye(2), sigmaz())\n",
    "sz2"
   ]
  },
  {
   "cell_type": "markdown",
   "metadata": {},
   "source": [
    "Note the order of the argument to the `tensor` function, and the correspondinly different matrix representation of the two operators `sz1` and `sz2`.\n",
    "\n",
    "Using the same method, we can create coupling terms of the form $\\sigma_x \\otimes \\sigma_x$"
   ]
  },
  {
   "cell_type": "code",
   "execution_count": 52,
   "metadata": {},
   "outputs": [
    {
     "data": {
      "text/latex": [
       "Quantum object: dims = [[2, 2], [2, 2]], shape = (4, 4), type = oper, isherm = True $ \\\\ \\left(\\begin{matrix}0.0 & 0.0 & 0.0 & 1.0\\\\0.0 & 0.0 & 1.0 & 0.0\\\\0.0 & 1.0 & 0.0 & 0.0\\\\1.0 & 0.0 & 0.0 & 0.0\\\\\\end{matrix}\\right)$"
      ],
      "text/plain": [
       "Quantum object: dims = [[2, 2], [2, 2]], shape = (4, 4), type = oper, isherm = True\n",
       "Qobj data =\n",
       "[[0. 0. 0. 1.]\n",
       " [0. 0. 1. 0.]\n",
       " [0. 1. 0. 0.]\n",
       " [1. 0. 0. 0.]]"
      ]
     },
     "execution_count": 52,
     "metadata": {},
     "output_type": "execute_result"
    }
   ],
   "source": [
    "tensor(sigmax(), sigmax())"
   ]
  },
  {
   "cell_type": "markdown",
   "metadata": {},
   "source": [
    "Now we will create a `Qobj` representation of a coupled two-qubit Hamiltonian\n",
    "\n",
    "$$ H = \\epsilon_1 \\sigma_z^{(1)} + \\epsilon_2 \\sigma_z^{(2)} + g \\sigma_x^{(1)}\\sigma_x^{(2)} $$"
   ]
  },
  {
   "cell_type": "code",
   "execution_count": 53,
   "metadata": {},
   "outputs": [
    {
     "data": {
      "text/latex": [
       "Quantum object: dims = [[2, 2], [2, 2]], shape = (4, 4), type = oper, isherm = True $ \\\\ \\left(\\begin{matrix}2.0 & 0.0 & 0.0 & 0.100\\\\0.0 & 0.0 & 0.100 & 0.0\\\\0.0 & 0.100 & 0.0 & 0.0\\\\0.100 & 0.0 & 0.0 & -2.0\\\\\\end{matrix}\\right)$"
      ],
      "text/plain": [
       "Quantum object: dims = [[2, 2], [2, 2]], shape = (4, 4), type = oper, isherm = True\n",
       "Qobj data =\n",
       "[[ 2.   0.   0.   0.1]\n",
       " [ 0.   0.   0.1  0. ]\n",
       " [ 0.   0.1  0.   0. ]\n",
       " [ 0.1  0.   0.  -2. ]]"
      ]
     },
     "execution_count": 53,
     "metadata": {},
     "output_type": "execute_result"
    }
   ],
   "source": [
    "epsilon = [1.0,1.0]\n",
    "g = 0.1\n",
    "\n",
    "sz1 = tensor(sigmaz(), qeye(2))\n",
    "sz2 = tensor(qeye(2), sigmaz())\n",
    "\n",
    "H = epsilon[0] * sz1 + epsilon[1] * sz2 + g * tensor(sigmax(), sigmax())\n",
    "\n",
    "H"
   ]
  },
  {
   "cell_type": "markdown",
   "metadata": {},
   "source": [
    "To create composite systems of different types, all we need is to change the operators that we pass to the `tensor` function \n",
    "\n",
    "For example, the **Jaynes-Cumming** Hamiltonian for a qubit-cavity system\n",
    "\n",
    "$$ H = \\omega_c a^\\dagger a - \\frac{1}{2}\\omega_a \\sigma_z + g (a \\sigma_+ + a^\\dagger \\sigma_-) $$"
   ]
  },
  {
   "cell_type": "code",
   "execution_count": 54,
   "metadata": {},
   "outputs": [
    {
     "data": {
      "text/latex": [
       "Quantum object: dims = [[5, 2], [5, 2]], shape = (10, 10), type = oper, isherm = True $ \\\\ \\left(\\begin{matrix}-0.500 & 0.0 & 0.0 & 0.0 & 0.0 & 0.0 & 0.0 & 0.0 & 0.0 & 0.0\\\\0.0 & 0.500 & 0.100 & 0.0 & 0.0 & 0.0 & 0.0 & 0.0 & 0.0 & 0.0\\\\0.0 & 0.100 & 0.500 & 0.0 & 0.0 & 0.0 & 0.0 & 0.0 & 0.0 & 0.0\\\\0.0 & 0.0 & 0.0 & 1.500 & 0.141 & 0.0 & 0.0 & 0.0 & 0.0 & 0.0\\\\0.0 & 0.0 & 0.0 & 0.141 & 1.500 & 0.0 & 0.0 & 0.0 & 0.0 & 0.0\\\\0.0 & 0.0 & 0.0 & 0.0 & 0.0 & 2.500 & 0.173 & 0.0 & 0.0 & 0.0\\\\0.0 & 0.0 & 0.0 & 0.0 & 0.0 & 0.173 & 2.500 & 0.0 & 0.0 & 0.0\\\\0.0 & 0.0 & 0.0 & 0.0 & 0.0 & 0.0 & 0.0 & 3.500 & 0.200 & 0.0\\\\0.0 & 0.0 & 0.0 & 0.0 & 0.0 & 0.0 & 0.0 & 0.200 & 3.500 & 0.0\\\\0.0 & 0.0 & 0.0 & 0.0 & 0.0 & 0.0 & 0.0 & 0.0 & 0.0 & 4.500\\\\\\end{matrix}\\right)$"
      ],
      "text/plain": [
       "Quantum object: dims = [[5, 2], [5, 2]], shape = (10, 10), type = oper, isherm = True\n",
       "Qobj data =\n",
       "[[-0.5         0.          0.          0.          0.          0.\n",
       "   0.          0.          0.          0.        ]\n",
       " [ 0.          0.5         0.1         0.          0.          0.\n",
       "   0.          0.          0.          0.        ]\n",
       " [ 0.          0.1         0.5         0.          0.          0.\n",
       "   0.          0.          0.          0.        ]\n",
       " [ 0.          0.          0.          1.5         0.14142136  0.\n",
       "   0.          0.          0.          0.        ]\n",
       " [ 0.          0.          0.          0.14142136  1.5         0.\n",
       "   0.          0.          0.          0.        ]\n",
       " [ 0.          0.          0.          0.          0.          2.5\n",
       "   0.17320508  0.          0.          0.        ]\n",
       " [ 0.          0.          0.          0.          0.          0.17320508\n",
       "   2.5         0.          0.          0.        ]\n",
       " [ 0.          0.          0.          0.          0.          0.\n",
       "   0.          3.5         0.2         0.        ]\n",
       " [ 0.          0.          0.          0.          0.          0.\n",
       "   0.          0.2         3.5         0.        ]\n",
       " [ 0.          0.          0.          0.          0.          0.\n",
       "   0.          0.          0.          4.5       ]]"
      ]
     },
     "execution_count": 54,
     "metadata": {},
     "output_type": "execute_result"
    }
   ],
   "source": [
    "wc = 1.0 # cavity frequency\n",
    "wa = 1.0 # atom frequency\n",
    "g = 0.1 # coupling strength\n",
    "\n",
    "# cavity mode operator\n",
    "a = tensor(destroy(5), qeye(2))\n",
    "\n",
    "# atomic operators\n",
    "sm = tensor(qeye(5), destroy(2)) # lowering operator\n",
    "sz = tensor(qeye(5), sigmaz()) # sigma-z operator\n",
    "\n",
    "# the Jaynes-Cummings Hamiltonian\n",
    "H = wc * a.dag() * a - 0.5 * wa * sz + g * (a * sm.dag() + a.dag() * sm)\n",
    "\n",
    "H"
   ]
  },
  {
   "cell_type": "markdown",
   "metadata": {},
   "source": [
    "Note that \n",
    "\n",
    "$$ a \\sigma_+ = ( a \\otimes 1)(1 \\otimes \\sigma_+)$$"
   ]
  },
  {
   "cell_type": "markdown",
   "metadata": {},
   "source": [
    "so the following two are identical"
   ]
  },
  {
   "cell_type": "code",
   "execution_count": 55,
   "metadata": {},
   "outputs": [
    {
     "data": {
      "text/latex": [
       "Quantum object: dims = [[3, 2], [3, 2]], shape = (6, 6), type = oper, isherm = False $ \\\\ \\left(\\begin{matrix}0.0 & 0.0 & 0.0 & 0.0 & 0.0 & 0.0\\\\0.0 & 0.0 & 1.0 & 0.0 & 0.0 & 0.0\\\\0.0 & 0.0 & 0.0 & 0.0 & 0.0 & 0.0\\\\0.0 & 0.0 & 0.0 & 0.0 & 1.414 & 0.0\\\\0.0 & 0.0 & 0.0 & 0.0 & 0.0 & 0.0\\\\0.0 & 0.0 & 0.0 & 0.0 & 0.0 & 0.0\\\\\\end{matrix}\\right)$"
      ],
      "text/plain": [
       "Quantum object: dims = [[3, 2], [3, 2]], shape = (6, 6), type = oper, isherm = False\n",
       "Qobj data =\n",
       "[[0.         0.         0.         0.         0.         0.        ]\n",
       " [0.         0.         1.         0.         0.         0.        ]\n",
       " [0.         0.         0.         0.         0.         0.        ]\n",
       " [0.         0.         0.         0.         1.41421356 0.        ]\n",
       " [0.         0.         0.         0.         0.         0.        ]\n",
       " [0.         0.         0.         0.         0.         0.        ]]"
      ]
     },
     "execution_count": 55,
     "metadata": {},
     "output_type": "execute_result"
    }
   ],
   "source": [
    "a = tensor(destroy(3), qeye(2))\n",
    "sp = tensor(qeye(3), create(2))\n",
    "\n",
    "a*sp"
   ]
  },
  {
   "cell_type": "code",
   "execution_count": 56,
   "metadata": {},
   "outputs": [
    {
     "data": {
      "text/latex": [
       "Quantum object: dims = [[3, 2], [3, 2]], shape = (6, 6), type = oper, isherm = False $ \\\\ \\left(\\begin{matrix}0.0 & 0.0 & 0.0 & 0.0 & 0.0 & 0.0\\\\0.0 & 0.0 & 1.0 & 0.0 & 0.0 & 0.0\\\\0.0 & 0.0 & 0.0 & 0.0 & 0.0 & 0.0\\\\0.0 & 0.0 & 0.0 & 0.0 & 1.414 & 0.0\\\\0.0 & 0.0 & 0.0 & 0.0 & 0.0 & 0.0\\\\0.0 & 0.0 & 0.0 & 0.0 & 0.0 & 0.0\\\\\\end{matrix}\\right)$"
      ],
      "text/plain": [
       "Quantum object: dims = [[3, 2], [3, 2]], shape = (6, 6), type = oper, isherm = False\n",
       "Qobj data =\n",
       "[[0.         0.         0.         0.         0.         0.        ]\n",
       " [0.         0.         1.         0.         0.         0.        ]\n",
       " [0.         0.         0.         0.         0.         0.        ]\n",
       " [0.         0.         0.         0.         1.41421356 0.        ]\n",
       " [0.         0.         0.         0.         0.         0.        ]\n",
       " [0.         0.         0.         0.         0.         0.        ]]"
      ]
     },
     "execution_count": 56,
     "metadata": {},
     "output_type": "execute_result"
    }
   ],
   "source": [
    "tensor(destroy(3), create(2))"
   ]
  },
  {
   "cell_type": "markdown",
   "metadata": {},
   "source": [
    "### Unitary Dynamics\n"
   ]
  },
  {
   "cell_type": "markdown",
   "metadata": {},
   "source": [
    "Unitary Evolution of a quantum system in QuTiP can be calculated with the `mesolve` function.\n",
    "\n",
    "`mesolve` is short for **Master-equation Solve** for dissipative dynamics, but if no collapse operators are given to the solve, it falls back on the unitary evolution of the Schrodinger or the von-Neumann equation.\n",
    "\n",
    "\n",
    "The evolution solvers in QuTiP returns a class of type `Odedata`, whcih contains the solution to the problem posed by the evolution solver.\n",
    "\n",
    "\n",
    "For example, consider a qubit with Hamiltonian $H = \\sigma_z$ and initial state $|1\\rangle$. It's evolution can be calculated as:"
   ]
  },
  {
   "cell_type": "code",
   "execution_count": 57,
   "metadata": {},
   "outputs": [],
   "source": [
    "# hamiltonian\n",
    "\n",
    "H = sigmax()\n",
    "\n",
    "# initial state\n",
    "psi0 = basis(2,0)\n",
    "\n",
    "# list of times for which the solver should store the state vector\n",
    "tlist = np.linspace(0,10,100)\n",
    "\n",
    "result = mesolve(H, psi0, tlist, [],[])"
   ]
  },
  {
   "cell_type": "code",
   "execution_count": 58,
   "metadata": {},
   "outputs": [
    {
     "data": {
      "text/plain": [
       "Result object with sesolve data.\n",
       "--------------------------------\n",
       "states = True\n",
       "num_collapse = 0"
      ]
     },
     "execution_count": 58,
     "metadata": {},
     "output_type": "execute_result"
    }
   ],
   "source": [
    "result"
   ]
  },
  {
   "cell_type": "markdown",
   "metadata": {},
   "source": [
    "The `result` object contains a list of the wavefunctions at the times requested with the `tlist` array."
   ]
  },
  {
   "cell_type": "code",
   "execution_count": 59,
   "metadata": {},
   "outputs": [
    {
     "data": {
      "text/plain": [
       "100"
      ]
     },
     "execution_count": 59,
     "metadata": {},
     "output_type": "execute_result"
    }
   ],
   "source": [
    "len(result.states)"
   ]
  },
  {
   "cell_type": "code",
   "execution_count": 60,
   "metadata": {},
   "outputs": [
    {
     "data": {
      "text/latex": [
       "Quantum object: dims = [[2], [1]], shape = (2, 1), type = ket $ \\\\ \\left(\\begin{matrix}-0.839\\\\0.544j\\\\\\end{matrix}\\right)$"
      ],
      "text/plain": [
       "Quantum object: dims = [[2], [1]], shape = (2, 1), type = ket\n",
       "Qobj data =\n",
       "[[-0.8390774+0.j        ]\n",
       " [ 0.       +0.54401206j]]"
      ]
     },
     "execution_count": 60,
     "metadata": {},
     "output_type": "execute_result"
    }
   ],
   "source": [
    "result.states[-1] # the final state"
   ]
  },
  {
   "cell_type": "markdown",
   "metadata": {},
   "source": [
    "### Expectation Values"
   ]
  },
  {
   "cell_type": "markdown",
   "metadata": {},
   "source": [
    "The expectation values of an operator given a state vector or density matrix can be calculated using the `expect` function"
   ]
  },
  {
   "cell_type": "code",
   "execution_count": 61,
   "metadata": {},
   "outputs": [
    {
     "data": {
      "text/plain": [
       "0.40810176186455965"
      ]
     },
     "execution_count": 61,
     "metadata": {},
     "output_type": "execute_result"
    }
   ],
   "source": [
    "expect(sigmaz(), result.states[-1]) # the expectation value of the sigma-z operator"
   ]
  },
  {
   "cell_type": "code",
   "execution_count": 62,
   "metadata": {},
   "outputs": [
    {
     "data": {
      "text/plain": [
       "array([ 1.        ,  0.97966324,  0.91948013,  0.82189857,  0.69088756,\n",
       "        0.53177579,  0.3510349 ,  0.15601625, -0.04534808, -0.24486795,\n",
       "       -0.43442821, -0.60631884, -0.75354841, -0.87012859, -0.95131766,\n",
       "       -0.99381332, -0.99588712, -0.95745468, -0.88007921, -0.76690787,\n",
       "       -0.62254375, -0.45285867, -0.26475429, -0.06588149,  0.13567091,\n",
       "        0.33170513,  0.51424779,  0.67587427,  0.81001063,  0.91120109,\n",
       "        0.97532984,  0.99978853,  0.9835823 ,  0.92737033,  0.83343897,\n",
       "        0.70560878,  0.54907906,  0.37021643,  0.17629587, -0.02479521,\n",
       "       -0.22487778, -0.41581382, -0.58983733, -0.73987014, -0.85980992,\n",
       "       -0.94477826, -0.9913192 , -0.99753971, -0.96318677, -0.88965766,\n",
       "       -0.77994308, -0.63850553, -0.4710978 , -0.28452892, -0.08638732,\n",
       "        0.11526793,  0.31223484,  0.49650212,  0.660575  ,  0.79778003,\n",
       "        0.90253662,  0.97058393,  0.99915421,  0.98708537,  0.9348683 ,\n",
       "        0.84462688,  0.72003156,  0.56615011,  0.38924141,  0.19650096,\n",
       "       -0.00423183, -0.20479249, -0.39702355, -0.57310633, -0.72587894,\n",
       "       -0.84912758, -0.93783928, -0.9884058 , -0.99877041, -0.9685115 ,\n",
       "       -0.89885984, -0.79264843, -0.65419728, -0.4891377 , -0.30418323,\n",
       "       -0.10685663,  0.09481617,  0.29263248,  0.47854644,  0.64499632,\n",
       "        0.785212  ,  0.89349043,  0.96542751,  0.9980973 ,  0.99017096,\n",
       "        0.94197089,  0.85545757,  0.73414984,  0.58298172,  0.40810176])"
      ]
     },
     "execution_count": 62,
     "metadata": {},
     "output_type": "execute_result"
    }
   ],
   "source": [
    "expect(sigmaz(), result.states) # the expectation value of the sigma-z operator at all times"
   ]
  },
  {
   "cell_type": "code",
   "execution_count": 63,
   "metadata": {},
   "outputs": [
    {
     "data": {
      "text/plain": [
       "Text(0, 0.5, '$\\\\left<\\\\sigma_z\\\\right>$')"
      ]
     },
     "execution_count": 63,
     "metadata": {},
     "output_type": "execute_result"
    },
    {
     "data": {
      "image/png": "[encoded data removed]",
      "text/plain": [
       "<Figure size 800x600 with 1 Axes>"
      ]
     },
     "metadata": {},
     "output_type": "display_data"
    }
   ],
   "source": [
    "fig, ax = plt.subplots(1,1,figsize=(8,6))\n",
    "\n",
    "ax.plot(tlist, expect(sigmaz(), result.states))\n",
    "\n",
    "ax.set_xlabel('Time', fontsize=14)\n",
    "ax.set_ylabel(r'$\\left<\\sigma_z\\right>$', fontsize=14)"
   ]
  },
  {
   "cell_type": "markdown",
   "metadata": {},
   "source": [
    "If we are only interested in expectation values, we could pass a list of operators to the `mesolve` function that we want expectation values for, and have the solver compute them and store the results in the `Odedata` class instance.\n",
    "\n",
    "For example, to request that the solver calculates the expectation values for the operators $\\sigma_z, \\sigma_x, \\sigma_y$"
   ]
  },
  {
   "cell_type": "code",
   "execution_count": 64,
   "metadata": {},
   "outputs": [],
   "source": [
    "result = mesolve(H, psi0, tlist, [], [sigmax(), sigmay(), sigmaz()])"
   ]
  },
  {
   "cell_type": "code",
   "execution_count": 65,
   "metadata": {},
   "outputs": [
    {
     "data": {
      "text/plain": [
       "array([0., 0., 0., 0., 0., 0., 0., 0., 0., 0., 0., 0., 0., 0., 0., 0., 0.,\n",
       "       0., 0., 0., 0., 0., 0., 0., 0., 0., 0., 0., 0., 0., 0., 0., 0., 0.,\n",
       "       0., 0., 0., 0., 0., 0., 0., 0., 0., 0., 0., 0., 0., 0., 0., 0., 0.,\n",
       "       0., 0., 0., 0., 0., 0., 0., 0., 0., 0., 0., 0., 0., 0., 0., 0., 0.,\n",
       "       0., 0., 0., 0., 0., 0., 0., 0., 0., 0., 0., 0., 0., 0., 0., 0., 0.,\n",
       "       0., 0., 0., 0., 0., 0., 0., 0., 0., 0., 0., 0., 0., 0., 0.])"
      ]
     },
     "execution_count": 65,
     "metadata": {},
     "output_type": "execute_result"
    }
   ],
   "source": [
    "result.expect[0]"
   ]
  },
  {
   "cell_type": "code",
   "execution_count": 66,
   "metadata": {},
   "outputs": [
    {
     "data": {
      "text/plain": [
       "array([ 0.        , -0.2006488 , -0.39313648, -0.56963387, -0.72296223,\n",
       "       -0.84688518, -0.93636238, -0.98775449, -0.99897125, -0.96955644,\n",
       "       -0.90070646, -0.79522165, -0.65739242, -0.49282475, -0.30821213,\n",
       "       -0.11106341,  0.0906027 ,  0.28858368,  0.4748269 ,  0.64175721,\n",
       "        0.782585  ,  0.89158231,  0.9643159 ,  0.99782745,  0.99075396,\n",
       "        0.94338312,  0.85764166,  0.73701694,  0.58641519,  0.41196187,\n",
       "        0.22075258,  0.02056446, -0.18046012, -0.37414472, -0.55261151,\n",
       "       -0.70860162, -0.83577041, -0.92894553, -0.98433722, -0.99969255,\n",
       "       -0.97438698, -0.90944976, -0.80752209, -0.67274971, -0.51061425,\n",
       "       -0.32771028, -0.13147716,  0.07010365,  0.26883311,  0.45662814,\n",
       "        0.62585046,  0.76961723,  0.88208098,  0.95866746,  0.99626163,\n",
       "        0.99333444,  0.95000495,  0.86803551,  0.75076006,  0.60294861,\n",
       "        0.4306131 ,  0.24076303,  0.04112023, -0.16019512, -0.35499473,\n",
       "       -0.53535543, -0.69394131, -0.82430216, -0.92113578, -0.98050363,\n",
       "       -0.99999105, -0.97880541, -0.91780842, -0.81948101, -0.68782248,\n",
       "       -0.52818781, -0.34706986, -0.15183532,  0.04957493,  0.24896882,\n",
       "        0.43823622,  0.60967899,  0.75632395,  0.87220658,  0.95261354,\n",
       "        0.99427444,  0.9954948 ,  0.95622499,  0.87806224,  0.76418567,\n",
       "        0.61922703,  0.44908224,  0.26067167,  0.06165863, -0.13986233,\n",
       "       -0.33569458, -0.5178729 , -0.67898749, -0.81248527, -0.91293644])"
      ]
     },
     "execution_count": 66,
     "metadata": {},
     "output_type": "execute_result"
    }
   ],
   "source": [
    "result.expect[1]"
   ]
  },
  {
   "cell_type": "code",
   "execution_count": 67,
   "metadata": {},
   "outputs": [
    {
     "data": {
      "text/plain": [
       "array([ 1.        ,  0.97966324,  0.91948013,  0.82189857,  0.69088756,\n",
       "        0.53177579,  0.3510349 ,  0.15601625, -0.04534808, -0.24486795,\n",
       "       -0.43442821, -0.60631884, -0.75354841, -0.87012859, -0.95131766,\n",
       "       -0.99381332, -0.99588712, -0.95745468, -0.88007921, -0.76690787,\n",
       "       -0.62254375, -0.45285867, -0.26475429, -0.06588149,  0.13567091,\n",
       "        0.33170513,  0.51424779,  0.67587427,  0.81001063,  0.91120109,\n",
       "        0.97532984,  0.99978853,  0.9835823 ,  0.92737033,  0.83343897,\n",
       "        0.70560878,  0.54907906,  0.37021643,  0.17629587, -0.02479521,\n",
       "       -0.22487778, -0.41581382, -0.58983733, -0.73987014, -0.85980992,\n",
       "       -0.94477826, -0.9913192 , -0.99753971, -0.96318677, -0.88965766,\n",
       "       -0.77994308, -0.63850553, -0.4710978 , -0.28452892, -0.08638732,\n",
       "        0.11526793,  0.31223484,  0.49650212,  0.660575  ,  0.79778003,\n",
       "        0.90253662,  0.97058393,  0.99915421,  0.98708537,  0.9348683 ,\n",
       "        0.84462688,  0.72003156,  0.56615011,  0.38924141,  0.19650096,\n",
       "       -0.00423183, -0.20479249, -0.39702355, -0.57310633, -0.72587894,\n",
       "       -0.84912758, -0.93783928, -0.9884058 , -0.99877041, -0.9685115 ,\n",
       "       -0.89885984, -0.79264843, -0.65419728, -0.4891377 , -0.30418323,\n",
       "       -0.10685663,  0.09481617,  0.29263248,  0.47854644,  0.64499632,\n",
       "        0.785212  ,  0.89349043,  0.96542751,  0.9980973 ,  0.99017096,\n",
       "        0.94197089,  0.85545757,  0.73414984,  0.58298172,  0.40810176])"
      ]
     },
     "execution_count": 67,
     "metadata": {},
     "output_type": "execute_result"
    }
   ],
   "source": [
    "result.expect[2]"
   ]
  },
  {
   "cell_type": "code",
   "execution_count": 68,
   "metadata": {},
   "outputs": [
    {
     "data": {
      "text/plain": [
       "Text(0, 0.5, 'Expectation values')"
      ]
     },
     "execution_count": 68,
     "metadata": {},
     "output_type": "execute_result"
    },
    {
     "data": {
      "image/png": "[encoded data removed]",
      "text/plain": [
       "<Figure size 800x600 with 1 Axes>"
      ]
     },
     "metadata": {},
     "output_type": "display_data"
    }
   ],
   "source": [
    "fig, ax = plt.subplots(1,1,figsize=(8,6))\n",
    "\n",
    "ax.plot(tlist, result.expect[0], label=r'$\\left<\\sigma_x\\right>$')\n",
    "ax.plot(tlist, result.expect[1], label=r'$\\left<\\sigma_y\\right>$')\n",
    "ax.plot(tlist, result.expect[2], label=r'$\\left<\\sigma_z\\right>$')\n",
    "\n",
    "ax.legend()\n",
    "ax.set_xlabel('Time', fontsize=14)\n",
    "ax.set_ylabel('Expectation values', fontsize=14)\n",
    "\n"
   ]
  },
  {
   "cell_type": "markdown",
   "metadata": {},
   "source": [
    "## Dissipative Dynamics"
   ]
  },
  {
   "cell_type": "markdown",
   "metadata": {},
   "source": [
    "To add dissipation to a problem, all we need to do is to define a list of collapse operators to the call to the  `mesolve` solver.\n",
    "A collapse operator is an operator that describes how the system is interacting with its environment.\n",
    "\n",
    "For example, consider a quantum harmonic osciallator with Hamiltonian\n",
    "\n",
    "$$ H = \\hbar \\omega a^{\\dagger} a $$\n",
    "\n",
    "and which loses photons to its environment with a relaxation rate $\\kappa$. The collapse operator that describes this process is $\\sqrt{\\kappa a} $\n",
    "\n",
    "Since $a$ is the photon anhilation operator of the oscillator. "
   ]
  },
  {
   "cell_type": "code",
   "execution_count": 69,
   "metadata": {},
   "outputs": [],
   "source": [
    "w = 1.0 # frequency of the harmonic oscillator\n",
    "kappa = 0.1 # coupling to the environment\n",
    "a = destroy(10) # annihilation operator\n",
    "rho0 = fock_dm(10, 5) # initial state\n",
    "H = w * a.dag() * a # Hamiltonian\n",
    "\n",
    "c_ops = [np.sqrt(kappa) * a] # collapse operators"
   ]
  },
  {
   "cell_type": "code",
   "execution_count": 70,
   "metadata": {},
   "outputs": [],
   "source": [
    "tlist = np.linspace(0, 50, 100)\n",
    "\n",
    "\"\"\" Request that the solver return the expectation value of the photon number operator a.dag() * a at all times.\"\"\"\n",
    "\n",
    "result = mesolve(H, rho0, tlist, c_ops, [a.dag() * a])"
   ]
  },
  {
   "cell_type": "code",
   "execution_count": 71,
   "metadata": {},
   "outputs": [
    {
     "data": {
      "text/plain": [
       "' Request that the solver return the expectation value of the photon number operator a.dag() * a at all times.'"
      ]
     },
     "execution_count": 71,
     "metadata": {},
     "output_type": "execute_result"
    },
    {
     "data": {
      "image/png": "[encoded data removed]",
      "text/plain": [
       "<Figure size 800x600 with 1 Axes>"
      ]
     },
     "metadata": {},
     "output_type": "display_data"
    }
   ],
   "source": [
    "fig, ax = plt.subplots(1,1,figsize=(8,6))\n",
    "\n",
    "ax.plot(tlist, result.expect[0])\n",
    "\n",
    "ax.set_xlabel('Time', fontsize=14)\n",
    "ax.set_ylabel('Photon number', fontsize=14)\n",
    "\n",
    "\"\"\" Request that the solver return the expectation value of the photon number operator a.dag() * a at all times.\"\"\"\n",
    "\n"
   ]
  },
  {
   "cell_type": "markdown",
   "metadata": {},
   "source": [
    "#### Software Versions"
   ]
  },
  {
   "cell_type": "code",
   "execution_count": 72,
   "metadata": {},
   "outputs": [
    {
     "name": "stdout",
     "output_type": "stream",
     "text": [
      "\n",
      "QuTiP: Quantum Toolbox in Python\n",
      "================================\n",
      "Copyright (c) QuTiP team 2011 and later.\n",
      "Current admin team: Alexander Pitchford, Nathan Shammah, Shahnawaz Ahmed, Neill Lambert, Eric Giguère, Boxi Li, Jake Lishman, Simon Cross and Asier Galicia.\n",
      "Board members: Daniel Burgarth, Robert Johansson, Anton F. Kockum, Franco Nori and Will Zeng.\n",
      "Original developers: R. J. Johansson & P. D. Nation.\n",
      "Previous lead developers: Chris Granade & A. Grimsmo.\n",
      "Currently developed through wide collaboration. See https://github.com/qutip for details.\n",
      "\n",
      "QuTiP Version:      4.7.5\n",
      "Numpy Version:      1.26.4\n",
      "Scipy Version:      1.12.0\n",
      "Cython Version:     None\n",
      "Matplotlib Version: 3.8.3\n",
      "Python Version:     3.10.11\n",
      "Number of CPUs:     24\n",
      "BLAS Info:          Generic\n",
      "OPENMP Installed:   False\n",
      "INTEL MKL Ext:      False\n",
      "Platform Info:      Windows (AMD64)\n",
      "Installation path:  c:\\Users\\monitsharma\\Downloads\\code\\qutip-and-quantum-control\\.venv\\lib\\site-packages\\qutip\n",
      "================================================================================\n",
      "Please cite QuTiP in your publication.\n",
      "================================================================================\n",
      "For your convenience a bibtex reference can be easily generated using `qutip.cite()`\n"
     ]
    }
   ],
   "source": [
    "about()"
   ]
  }
 ],
 "metadata": {
  "kernelspec": {
   "display_name": ".venv",
   "language": "python",
   "name": "python3"
  },
  "language_info": {
   "codemirror_mode": {
    "name": "ipython",
    "version": 3
   },
   "file_extension": ".py",
   "mimetype": "text/x-python",
   "name": "python",
   "nbconvert_exporter": "python",
   "pygments_lexer": "ipython3",
   "version": "3.10.11"
  }
 },
 "nbformat": 4,
 "nbformat_minor": 2
}
